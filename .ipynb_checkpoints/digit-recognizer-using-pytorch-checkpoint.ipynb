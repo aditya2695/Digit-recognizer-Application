{
 "cells": [
  {
   "cell_type": "code",
   "execution_count": 1,
   "id": "165874a0",
   "metadata": {
    "_cell_guid": "b1076dfc-b9ad-4769-8c92-a6c4dae69d19",
    "_uuid": "8f2839f25d086af736a60e9eeb907d3b93b6e0e5",
    "execution": {
     "iopub.execute_input": "2021-10-31T17:09:09.945615Z",
     "iopub.status.busy": "2021-10-31T17:09:09.944816Z",
     "iopub.status.idle": "2021-10-31T17:09:09.951036Z",
     "shell.execute_reply": "2021-10-31T17:09:09.950544Z",
     "shell.execute_reply.started": "2021-10-31T17:02:46.136752Z"
    },
    "papermill": {
     "duration": 0.046713,
     "end_time": "2021-10-31T17:09:09.951165",
     "exception": false,
     "start_time": "2021-10-31T17:09:09.904452",
     "status": "completed"
    },
    "tags": []
   },
   "outputs": [
    {
     "name": "stdout",
     "output_type": "stream",
     "text": [
      "/kaggle/input/digit-recognizer/sample_submission.csv\n",
      "/kaggle/input/digit-recognizer/train.csv\n",
      "/kaggle/input/digit-recognizer/test.csv\n"
     ]
    }
   ],
   "source": [
    "# This Python 3 environment comes with many helpful analytics libraries installed\n",
    "# It is defined by the kaggle/python Docker image: https://github.com/kaggle/docker-python\n",
    "# For example, here's several helpful packages to load\n",
    "\n",
    "import numpy as np # linear algebra\n",
    "import pandas as pd # data processing, CSV file I/O (e.g. pd.read_csv)\n",
    "\n",
    "# Input data files are available in the read-only \"../input/\" directory\n",
    "# For example, running this (by clicking run or pressing Shift+Enter) will list all files under the input directory\n",
    "\n",
    "import os\n",
    "for dirname, _, filenames in os.walk('/kaggle/input'):\n",
    "    for filename in filenames:\n",
    "        print(os.path.join(dirname, filename))\n",
    "\n",
    "# You can write up to 20GB to the current directory (/kaggle/working/) that gets preserved as output when you create a version using \"Save & Run All\" \n",
    "# You can also write temporary files to /kaggle/temp/, but they won't be saved outside of the current session"
   ]
  },
  {
   "cell_type": "markdown",
   "id": "89d7e13d",
   "metadata": {
    "papermill": {
     "duration": 0.028897,
     "end_time": "2021-10-31T17:09:10.011229",
     "exception": false,
     "start_time": "2021-10-31T17:09:09.982332",
     "status": "completed"
    },
    "tags": []
   },
   "source": [
    "## Importing required libraries"
   ]
  },
  {
   "cell_type": "code",
   "execution_count": 2,
   "id": "4987e898",
   "metadata": {
    "execution": {
     "iopub.execute_input": "2021-10-31T17:09:10.076915Z",
     "iopub.status.busy": "2021-10-31T17:09:10.076360Z",
     "iopub.status.idle": "2021-10-31T17:09:13.048619Z",
     "shell.execute_reply": "2021-10-31T17:09:13.048052Z",
     "shell.execute_reply.started": "2021-10-31T17:02:46.185927Z"
    },
    "papermill": {
     "duration": 3.007409,
     "end_time": "2021-10-31T17:09:13.048764",
     "exception": false,
     "start_time": "2021-10-31T17:09:10.041355",
     "status": "completed"
    },
    "tags": []
   },
   "outputs": [],
   "source": [
    "import torch\n",
    "import torchvision\n",
    "import torch.nn as nn\n",
    "import torch.nn.functional as F\n",
    "from torch.utils.data import random_split\n",
    "from torch.utils.data import DataLoader\n",
    "from torch.utils.data import TensorDataset\n",
    "import matplotlib.pyplot as plt\n",
    "%matplotlib inline\n",
    "from sklearn.preprocessing import MinMaxScaler\n",
    "from sklearn.model_selection import train_test_split"
   ]
  },
  {
   "cell_type": "markdown",
   "id": "346b8241",
   "metadata": {
    "papermill": {
     "duration": 0.030605,
     "end_time": "2021-10-31T17:09:13.110351",
     "exception": false,
     "start_time": "2021-10-31T17:09:13.079746",
     "status": "completed"
    },
    "tags": []
   },
   "source": [
    "## Reading the data you are provided with"
   ]
  },
  {
   "cell_type": "code",
   "execution_count": 3,
   "id": "b70151c4",
   "metadata": {
    "execution": {
     "iopub.execute_input": "2021-10-31T17:09:13.174595Z",
     "iopub.status.busy": "2021-10-31T17:09:13.173981Z",
     "iopub.status.idle": "2021-10-31T17:09:18.071990Z",
     "shell.execute_reply": "2021-10-31T17:09:18.071493Z",
     "shell.execute_reply.started": "2021-10-31T17:02:48.554836Z"
    },
    "papermill": {
     "duration": 4.931773,
     "end_time": "2021-10-31T17:09:18.072123",
     "exception": false,
     "start_time": "2021-10-31T17:09:13.140350",
     "status": "completed"
    },
    "tags": []
   },
   "outputs": [],
   "source": [
    "train=pd.read_csv(\"../input/digit-recognizer/train.csv\")\n",
    "test=pd.read_csv(\"../input/digit-recognizer/test.csv\")"
   ]
  },
  {
   "cell_type": "code",
   "execution_count": 4,
   "id": "fae1a2ae",
   "metadata": {
    "execution": {
     "iopub.execute_input": "2021-10-31T17:09:18.195022Z",
     "iopub.status.busy": "2021-10-31T17:09:18.194330Z",
     "iopub.status.idle": "2021-10-31T17:09:18.211941Z",
     "shell.execute_reply": "2021-10-31T17:09:18.212336Z",
     "shell.execute_reply.started": "2021-10-31T17:02:53.778951Z"
    },
    "papermill": {
     "duration": 0.060822,
     "end_time": "2021-10-31T17:09:18.212495",
     "exception": false,
     "start_time": "2021-10-31T17:09:18.151673",
     "status": "completed"
    },
    "tags": []
   },
   "outputs": [
    {
     "data": {
      "text/html": [
       "<div>\n",
       "<style scoped>\n",
       "    .dataframe tbody tr th:only-of-type {\n",
       "        vertical-align: middle;\n",
       "    }\n",
       "\n",
       "    .dataframe tbody tr th {\n",
       "        vertical-align: top;\n",
       "    }\n",
       "\n",
       "    .dataframe thead th {\n",
       "        text-align: right;\n",
       "    }\n",
       "</style>\n",
       "<table border=\"1\" class=\"dataframe\">\n",
       "  <thead>\n",
       "    <tr style=\"text-align: right;\">\n",
       "      <th></th>\n",
       "      <th>pixel0</th>\n",
       "      <th>pixel1</th>\n",
       "      <th>pixel2</th>\n",
       "      <th>pixel3</th>\n",
       "      <th>pixel4</th>\n",
       "      <th>pixel5</th>\n",
       "      <th>pixel6</th>\n",
       "      <th>pixel7</th>\n",
       "      <th>pixel8</th>\n",
       "      <th>pixel9</th>\n",
       "      <th>...</th>\n",
       "      <th>pixel774</th>\n",
       "      <th>pixel775</th>\n",
       "      <th>pixel776</th>\n",
       "      <th>pixel777</th>\n",
       "      <th>pixel778</th>\n",
       "      <th>pixel779</th>\n",
       "      <th>pixel780</th>\n",
       "      <th>pixel781</th>\n",
       "      <th>pixel782</th>\n",
       "      <th>pixel783</th>\n",
       "    </tr>\n",
       "  </thead>\n",
       "  <tbody>\n",
       "    <tr>\n",
       "      <th>0</th>\n",
       "      <td>0</td>\n",
       "      <td>0</td>\n",
       "      <td>0</td>\n",
       "      <td>0</td>\n",
       "      <td>0</td>\n",
       "      <td>0</td>\n",
       "      <td>0</td>\n",
       "      <td>0</td>\n",
       "      <td>0</td>\n",
       "      <td>0</td>\n",
       "      <td>...</td>\n",
       "      <td>0</td>\n",
       "      <td>0</td>\n",
       "      <td>0</td>\n",
       "      <td>0</td>\n",
       "      <td>0</td>\n",
       "      <td>0</td>\n",
       "      <td>0</td>\n",
       "      <td>0</td>\n",
       "      <td>0</td>\n",
       "      <td>0</td>\n",
       "    </tr>\n",
       "    <tr>\n",
       "      <th>1</th>\n",
       "      <td>0</td>\n",
       "      <td>0</td>\n",
       "      <td>0</td>\n",
       "      <td>0</td>\n",
       "      <td>0</td>\n",
       "      <td>0</td>\n",
       "      <td>0</td>\n",
       "      <td>0</td>\n",
       "      <td>0</td>\n",
       "      <td>0</td>\n",
       "      <td>...</td>\n",
       "      <td>0</td>\n",
       "      <td>0</td>\n",
       "      <td>0</td>\n",
       "      <td>0</td>\n",
       "      <td>0</td>\n",
       "      <td>0</td>\n",
       "      <td>0</td>\n",
       "      <td>0</td>\n",
       "      <td>0</td>\n",
       "      <td>0</td>\n",
       "    </tr>\n",
       "    <tr>\n",
       "      <th>2</th>\n",
       "      <td>0</td>\n",
       "      <td>0</td>\n",
       "      <td>0</td>\n",
       "      <td>0</td>\n",
       "      <td>0</td>\n",
       "      <td>0</td>\n",
       "      <td>0</td>\n",
       "      <td>0</td>\n",
       "      <td>0</td>\n",
       "      <td>0</td>\n",
       "      <td>...</td>\n",
       "      <td>0</td>\n",
       "      <td>0</td>\n",
       "      <td>0</td>\n",
       "      <td>0</td>\n",
       "      <td>0</td>\n",
       "      <td>0</td>\n",
       "      <td>0</td>\n",
       "      <td>0</td>\n",
       "      <td>0</td>\n",
       "      <td>0</td>\n",
       "    </tr>\n",
       "    <tr>\n",
       "      <th>3</th>\n",
       "      <td>0</td>\n",
       "      <td>0</td>\n",
       "      <td>0</td>\n",
       "      <td>0</td>\n",
       "      <td>0</td>\n",
       "      <td>0</td>\n",
       "      <td>0</td>\n",
       "      <td>0</td>\n",
       "      <td>0</td>\n",
       "      <td>0</td>\n",
       "      <td>...</td>\n",
       "      <td>0</td>\n",
       "      <td>0</td>\n",
       "      <td>0</td>\n",
       "      <td>0</td>\n",
       "      <td>0</td>\n",
       "      <td>0</td>\n",
       "      <td>0</td>\n",
       "      <td>0</td>\n",
       "      <td>0</td>\n",
       "      <td>0</td>\n",
       "    </tr>\n",
       "    <tr>\n",
       "      <th>4</th>\n",
       "      <td>0</td>\n",
       "      <td>0</td>\n",
       "      <td>0</td>\n",
       "      <td>0</td>\n",
       "      <td>0</td>\n",
       "      <td>0</td>\n",
       "      <td>0</td>\n",
       "      <td>0</td>\n",
       "      <td>0</td>\n",
       "      <td>0</td>\n",
       "      <td>...</td>\n",
       "      <td>0</td>\n",
       "      <td>0</td>\n",
       "      <td>0</td>\n",
       "      <td>0</td>\n",
       "      <td>0</td>\n",
       "      <td>0</td>\n",
       "      <td>0</td>\n",
       "      <td>0</td>\n",
       "      <td>0</td>\n",
       "      <td>0</td>\n",
       "    </tr>\n",
       "  </tbody>\n",
       "</table>\n",
       "<p>5 rows × 784 columns</p>\n",
       "</div>"
      ],
      "text/plain": [
       "   pixel0  pixel1  pixel2  pixel3  pixel4  pixel5  pixel6  pixel7  pixel8  \\\n",
       "0       0       0       0       0       0       0       0       0       0   \n",
       "1       0       0       0       0       0       0       0       0       0   \n",
       "2       0       0       0       0       0       0       0       0       0   \n",
       "3       0       0       0       0       0       0       0       0       0   \n",
       "4       0       0       0       0       0       0       0       0       0   \n",
       "\n",
       "   pixel9  ...  pixel774  pixel775  pixel776  pixel777  pixel778  pixel779  \\\n",
       "0       0  ...         0         0         0         0         0         0   \n",
       "1       0  ...         0         0         0         0         0         0   \n",
       "2       0  ...         0         0         0         0         0         0   \n",
       "3       0  ...         0         0         0         0         0         0   \n",
       "4       0  ...         0         0         0         0         0         0   \n",
       "\n",
       "   pixel780  pixel781  pixel782  pixel783  \n",
       "0         0         0         0         0  \n",
       "1         0         0         0         0  \n",
       "2         0         0         0         0  \n",
       "3         0         0         0         0  \n",
       "4         0         0         0         0  \n",
       "\n",
       "[5 rows x 784 columns]"
      ]
     },
     "execution_count": 4,
     "metadata": {},
     "output_type": "execute_result"
    }
   ],
   "source": [
    "test.head()"
   ]
  },
  {
   "cell_type": "code",
   "execution_count": 5,
   "id": "46fe57e0",
   "metadata": {
    "execution": {
     "iopub.execute_input": "2021-10-31T17:09:18.289924Z",
     "iopub.status.busy": "2021-10-31T17:09:18.289159Z",
     "iopub.status.idle": "2021-10-31T17:09:18.302195Z",
     "shell.execute_reply": "2021-10-31T17:09:18.301730Z",
     "shell.execute_reply.started": "2021-10-31T17:02:53.807690Z"
    },
    "papermill": {
     "duration": 0.059705,
     "end_time": "2021-10-31T17:09:18.302306",
     "exception": false,
     "start_time": "2021-10-31T17:09:18.242601",
     "status": "completed"
    },
    "tags": []
   },
   "outputs": [
    {
     "data": {
      "text/html": [
       "<div>\n",
       "<style scoped>\n",
       "    .dataframe tbody tr th:only-of-type {\n",
       "        vertical-align: middle;\n",
       "    }\n",
       "\n",
       "    .dataframe tbody tr th {\n",
       "        vertical-align: top;\n",
       "    }\n",
       "\n",
       "    .dataframe thead th {\n",
       "        text-align: right;\n",
       "    }\n",
       "</style>\n",
       "<table border=\"1\" class=\"dataframe\">\n",
       "  <thead>\n",
       "    <tr style=\"text-align: right;\">\n",
       "      <th></th>\n",
       "      <th>label</th>\n",
       "      <th>pixel0</th>\n",
       "      <th>pixel1</th>\n",
       "      <th>pixel2</th>\n",
       "      <th>pixel3</th>\n",
       "      <th>pixel4</th>\n",
       "      <th>pixel5</th>\n",
       "      <th>pixel6</th>\n",
       "      <th>pixel7</th>\n",
       "      <th>pixel8</th>\n",
       "      <th>...</th>\n",
       "      <th>pixel774</th>\n",
       "      <th>pixel775</th>\n",
       "      <th>pixel776</th>\n",
       "      <th>pixel777</th>\n",
       "      <th>pixel778</th>\n",
       "      <th>pixel779</th>\n",
       "      <th>pixel780</th>\n",
       "      <th>pixel781</th>\n",
       "      <th>pixel782</th>\n",
       "      <th>pixel783</th>\n",
       "    </tr>\n",
       "  </thead>\n",
       "  <tbody>\n",
       "    <tr>\n",
       "      <th>0</th>\n",
       "      <td>1</td>\n",
       "      <td>0</td>\n",
       "      <td>0</td>\n",
       "      <td>0</td>\n",
       "      <td>0</td>\n",
       "      <td>0</td>\n",
       "      <td>0</td>\n",
       "      <td>0</td>\n",
       "      <td>0</td>\n",
       "      <td>0</td>\n",
       "      <td>...</td>\n",
       "      <td>0</td>\n",
       "      <td>0</td>\n",
       "      <td>0</td>\n",
       "      <td>0</td>\n",
       "      <td>0</td>\n",
       "      <td>0</td>\n",
       "      <td>0</td>\n",
       "      <td>0</td>\n",
       "      <td>0</td>\n",
       "      <td>0</td>\n",
       "    </tr>\n",
       "    <tr>\n",
       "      <th>1</th>\n",
       "      <td>0</td>\n",
       "      <td>0</td>\n",
       "      <td>0</td>\n",
       "      <td>0</td>\n",
       "      <td>0</td>\n",
       "      <td>0</td>\n",
       "      <td>0</td>\n",
       "      <td>0</td>\n",
       "      <td>0</td>\n",
       "      <td>0</td>\n",
       "      <td>...</td>\n",
       "      <td>0</td>\n",
       "      <td>0</td>\n",
       "      <td>0</td>\n",
       "      <td>0</td>\n",
       "      <td>0</td>\n",
       "      <td>0</td>\n",
       "      <td>0</td>\n",
       "      <td>0</td>\n",
       "      <td>0</td>\n",
       "      <td>0</td>\n",
       "    </tr>\n",
       "    <tr>\n",
       "      <th>2</th>\n",
       "      <td>1</td>\n",
       "      <td>0</td>\n",
       "      <td>0</td>\n",
       "      <td>0</td>\n",
       "      <td>0</td>\n",
       "      <td>0</td>\n",
       "      <td>0</td>\n",
       "      <td>0</td>\n",
       "      <td>0</td>\n",
       "      <td>0</td>\n",
       "      <td>...</td>\n",
       "      <td>0</td>\n",
       "      <td>0</td>\n",
       "      <td>0</td>\n",
       "      <td>0</td>\n",
       "      <td>0</td>\n",
       "      <td>0</td>\n",
       "      <td>0</td>\n",
       "      <td>0</td>\n",
       "      <td>0</td>\n",
       "      <td>0</td>\n",
       "    </tr>\n",
       "    <tr>\n",
       "      <th>3</th>\n",
       "      <td>4</td>\n",
       "      <td>0</td>\n",
       "      <td>0</td>\n",
       "      <td>0</td>\n",
       "      <td>0</td>\n",
       "      <td>0</td>\n",
       "      <td>0</td>\n",
       "      <td>0</td>\n",
       "      <td>0</td>\n",
       "      <td>0</td>\n",
       "      <td>...</td>\n",
       "      <td>0</td>\n",
       "      <td>0</td>\n",
       "      <td>0</td>\n",
       "      <td>0</td>\n",
       "      <td>0</td>\n",
       "      <td>0</td>\n",
       "      <td>0</td>\n",
       "      <td>0</td>\n",
       "      <td>0</td>\n",
       "      <td>0</td>\n",
       "    </tr>\n",
       "    <tr>\n",
       "      <th>4</th>\n",
       "      <td>0</td>\n",
       "      <td>0</td>\n",
       "      <td>0</td>\n",
       "      <td>0</td>\n",
       "      <td>0</td>\n",
       "      <td>0</td>\n",
       "      <td>0</td>\n",
       "      <td>0</td>\n",
       "      <td>0</td>\n",
       "      <td>0</td>\n",
       "      <td>...</td>\n",
       "      <td>0</td>\n",
       "      <td>0</td>\n",
       "      <td>0</td>\n",
       "      <td>0</td>\n",
       "      <td>0</td>\n",
       "      <td>0</td>\n",
       "      <td>0</td>\n",
       "      <td>0</td>\n",
       "      <td>0</td>\n",
       "      <td>0</td>\n",
       "    </tr>\n",
       "  </tbody>\n",
       "</table>\n",
       "<p>5 rows × 785 columns</p>\n",
       "</div>"
      ],
      "text/plain": [
       "   label  pixel0  pixel1  pixel2  pixel3  pixel4  pixel5  pixel6  pixel7  \\\n",
       "0      1       0       0       0       0       0       0       0       0   \n",
       "1      0       0       0       0       0       0       0       0       0   \n",
       "2      1       0       0       0       0       0       0       0       0   \n",
       "3      4       0       0       0       0       0       0       0       0   \n",
       "4      0       0       0       0       0       0       0       0       0   \n",
       "\n",
       "   pixel8  ...  pixel774  pixel775  pixel776  pixel777  pixel778  pixel779  \\\n",
       "0       0  ...         0         0         0         0         0         0   \n",
       "1       0  ...         0         0         0         0         0         0   \n",
       "2       0  ...         0         0         0         0         0         0   \n",
       "3       0  ...         0         0         0         0         0         0   \n",
       "4       0  ...         0         0         0         0         0         0   \n",
       "\n",
       "   pixel780  pixel781  pixel782  pixel783  \n",
       "0         0         0         0         0  \n",
       "1         0         0         0         0  \n",
       "2         0         0         0         0  \n",
       "3         0         0         0         0  \n",
       "4         0         0         0         0  \n",
       "\n",
       "[5 rows x 785 columns]"
      ]
     },
     "execution_count": 5,
     "metadata": {},
     "output_type": "execute_result"
    }
   ],
   "source": [
    "train.head()"
   ]
  },
  {
   "cell_type": "markdown",
   "id": "20624145",
   "metadata": {
    "papermill": {
     "duration": 0.03069,
     "end_time": "2021-10-31T17:09:18.363689",
     "exception": false,
     "start_time": "2021-10-31T17:09:18.332999",
     "status": "completed"
    },
    "tags": []
   },
   "source": [
    "## Inspecting the datasets"
   ]
  },
  {
   "cell_type": "code",
   "execution_count": 6,
   "id": "1271d498",
   "metadata": {
    "execution": {
     "iopub.execute_input": "2021-10-31T17:09:18.431323Z",
     "iopub.status.busy": "2021-10-31T17:09:18.430202Z",
     "iopub.status.idle": "2021-10-31T17:09:18.433195Z",
     "shell.execute_reply": "2021-10-31T17:09:18.433627Z",
     "shell.execute_reply.started": "2021-10-31T17:02:53.824654Z"
    },
    "papermill": {
     "duration": 0.038832,
     "end_time": "2021-10-31T17:09:18.433753",
     "exception": false,
     "start_time": "2021-10-31T17:09:18.394921",
     "status": "completed"
    },
    "tags": []
   },
   "outputs": [
    {
     "data": {
      "text/plain": [
       "42000"
      ]
     },
     "execution_count": 6,
     "metadata": {},
     "output_type": "execute_result"
    }
   ],
   "source": [
    "len(train)"
   ]
  },
  {
   "cell_type": "markdown",
   "id": "f1c0df55",
   "metadata": {
    "papermill": {
     "duration": 0.030372,
     "end_time": "2021-10-31T17:09:18.494709",
     "exception": false,
     "start_time": "2021-10-31T17:09:18.464337",
     "status": "completed"
    },
    "tags": []
   },
   "source": []
  },
  {
   "cell_type": "code",
   "execution_count": 7,
   "id": "26dfb6ff",
   "metadata": {
    "execution": {
     "iopub.execute_input": "2021-10-31T17:09:18.560244Z",
     "iopub.status.busy": "2021-10-31T17:09:18.559644Z",
     "iopub.status.idle": "2021-10-31T17:09:18.562196Z",
     "shell.execute_reply": "2021-10-31T17:09:18.562608Z",
     "shell.execute_reply.started": "2021-10-31T17:02:53.831963Z"
    },
    "papermill": {
     "duration": 0.037412,
     "end_time": "2021-10-31T17:09:18.562726",
     "exception": false,
     "start_time": "2021-10-31T17:09:18.525314",
     "status": "completed"
    },
    "tags": []
   },
   "outputs": [
    {
     "data": {
      "text/plain": [
       "28000"
      ]
     },
     "execution_count": 7,
     "metadata": {},
     "output_type": "execute_result"
    }
   ],
   "source": [
    "len(test)"
   ]
  },
  {
   "cell_type": "code",
   "execution_count": 8,
   "id": "2ae0f066",
   "metadata": {
    "execution": {
     "iopub.execute_input": "2021-10-31T17:09:18.631172Z",
     "iopub.status.busy": "2021-10-31T17:09:18.630093Z",
     "iopub.status.idle": "2021-10-31T17:09:18.633114Z",
     "shell.execute_reply": "2021-10-31T17:09:18.633552Z",
     "shell.execute_reply.started": "2021-10-31T17:02:53.841701Z"
    },
    "papermill": {
     "duration": 0.039668,
     "end_time": "2021-10-31T17:09:18.633677",
     "exception": false,
     "start_time": "2021-10-31T17:09:18.594009",
     "status": "completed"
    },
    "tags": []
   },
   "outputs": [
    {
     "data": {
      "text/plain": [
       "(42000, 785)"
      ]
     },
     "execution_count": 8,
     "metadata": {},
     "output_type": "execute_result"
    }
   ],
   "source": [
    "train.shape"
   ]
  },
  {
   "cell_type": "code",
   "execution_count": 9,
   "id": "8bb2418c",
   "metadata": {
    "execution": {
     "iopub.execute_input": "2021-10-31T17:09:18.701561Z",
     "iopub.status.busy": "2021-10-31T17:09:18.700813Z",
     "iopub.status.idle": "2021-10-31T17:09:18.703980Z",
     "shell.execute_reply": "2021-10-31T17:09:18.703494Z",
     "shell.execute_reply.started": "2021-10-31T17:02:53.849941Z"
    },
    "papermill": {
     "duration": 0.038441,
     "end_time": "2021-10-31T17:09:18.704081",
     "exception": false,
     "start_time": "2021-10-31T17:09:18.665640",
     "status": "completed"
    },
    "tags": []
   },
   "outputs": [
    {
     "data": {
      "text/plain": [
       "(28000, 784)"
      ]
     },
     "execution_count": 9,
     "metadata": {},
     "output_type": "execute_result"
    }
   ],
   "source": [
    "test.shape"
   ]
  },
  {
   "cell_type": "markdown",
   "id": "ff808200",
   "metadata": {
    "papermill": {
     "duration": 0.03196,
     "end_time": "2021-10-31T17:09:18.767470",
     "exception": false,
     "start_time": "2021-10-31T17:09:18.735510",
     "status": "completed"
    },
    "tags": []
   },
   "source": [
    "## Defining predictors and target variable"
   ]
  },
  {
   "cell_type": "code",
   "execution_count": 10,
   "id": "57d277f6",
   "metadata": {
    "execution": {
     "iopub.execute_input": "2021-10-31T17:09:18.838669Z",
     "iopub.status.busy": "2021-10-31T17:09:18.837104Z",
     "iopub.status.idle": "2021-10-31T17:09:18.839254Z",
     "shell.execute_reply": "2021-10-31T17:09:18.839709Z",
     "shell.execute_reply.started": "2021-10-31T17:02:53.859744Z"
    },
    "papermill": {
     "duration": 0.040798,
     "end_time": "2021-10-31T17:09:18.839833",
     "exception": false,
     "start_time": "2021-10-31T17:09:18.799035",
     "status": "completed"
    },
    "tags": []
   },
   "outputs": [],
   "source": [
    "# Target variable\n",
    "labels=train.label\n"
   ]
  },
  {
   "cell_type": "code",
   "execution_count": 11,
   "id": "dbc5dedd",
   "metadata": {
    "execution": {
     "iopub.execute_input": "2021-10-31T17:09:18.988101Z",
     "iopub.status.busy": "2021-10-31T17:09:18.987244Z",
     "iopub.status.idle": "2021-10-31T17:09:18.990925Z",
     "shell.execute_reply": "2021-10-31T17:09:18.990427Z",
     "shell.execute_reply.started": "2021-10-31T17:02:53.869687Z"
    },
    "papermill": {
     "duration": 0.119314,
     "end_time": "2021-10-31T17:09:18.991051",
     "exception": false,
     "start_time": "2021-10-31T17:09:18.871737",
     "status": "completed"
    },
    "tags": []
   },
   "outputs": [],
   "source": [
    "# Independent variables\n",
    "train_ds=train.drop('label',axis=1)"
   ]
  },
  {
   "cell_type": "code",
   "execution_count": 12,
   "id": "f818ca7b",
   "metadata": {
    "execution": {
     "iopub.execute_input": "2021-10-31T17:09:19.072094Z",
     "iopub.status.busy": "2021-10-31T17:09:19.071469Z",
     "iopub.status.idle": "2021-10-31T17:09:19.074696Z",
     "shell.execute_reply": "2021-10-31T17:09:19.075125Z",
     "shell.execute_reply.started": "2021-10-31T17:02:53.957799Z"
    },
    "papermill": {
     "duration": 0.050971,
     "end_time": "2021-10-31T17:09:19.075257",
     "exception": false,
     "start_time": "2021-10-31T17:09:19.024286",
     "status": "completed"
    },
    "tags": []
   },
   "outputs": [
    {
     "data": {
      "text/html": [
       "<div>\n",
       "<style scoped>\n",
       "    .dataframe tbody tr th:only-of-type {\n",
       "        vertical-align: middle;\n",
       "    }\n",
       "\n",
       "    .dataframe tbody tr th {\n",
       "        vertical-align: top;\n",
       "    }\n",
       "\n",
       "    .dataframe thead th {\n",
       "        text-align: right;\n",
       "    }\n",
       "</style>\n",
       "<table border=\"1\" class=\"dataframe\">\n",
       "  <thead>\n",
       "    <tr style=\"text-align: right;\">\n",
       "      <th></th>\n",
       "      <th>pixel0</th>\n",
       "      <th>pixel1</th>\n",
       "      <th>pixel2</th>\n",
       "      <th>pixel3</th>\n",
       "      <th>pixel4</th>\n",
       "      <th>pixel5</th>\n",
       "      <th>pixel6</th>\n",
       "      <th>pixel7</th>\n",
       "      <th>pixel8</th>\n",
       "      <th>pixel9</th>\n",
       "      <th>...</th>\n",
       "      <th>pixel774</th>\n",
       "      <th>pixel775</th>\n",
       "      <th>pixel776</th>\n",
       "      <th>pixel777</th>\n",
       "      <th>pixel778</th>\n",
       "      <th>pixel779</th>\n",
       "      <th>pixel780</th>\n",
       "      <th>pixel781</th>\n",
       "      <th>pixel782</th>\n",
       "      <th>pixel783</th>\n",
       "    </tr>\n",
       "  </thead>\n",
       "  <tbody>\n",
       "    <tr>\n",
       "      <th>0</th>\n",
       "      <td>0</td>\n",
       "      <td>0</td>\n",
       "      <td>0</td>\n",
       "      <td>0</td>\n",
       "      <td>0</td>\n",
       "      <td>0</td>\n",
       "      <td>0</td>\n",
       "      <td>0</td>\n",
       "      <td>0</td>\n",
       "      <td>0</td>\n",
       "      <td>...</td>\n",
       "      <td>0</td>\n",
       "      <td>0</td>\n",
       "      <td>0</td>\n",
       "      <td>0</td>\n",
       "      <td>0</td>\n",
       "      <td>0</td>\n",
       "      <td>0</td>\n",
       "      <td>0</td>\n",
       "      <td>0</td>\n",
       "      <td>0</td>\n",
       "    </tr>\n",
       "    <tr>\n",
       "      <th>1</th>\n",
       "      <td>0</td>\n",
       "      <td>0</td>\n",
       "      <td>0</td>\n",
       "      <td>0</td>\n",
       "      <td>0</td>\n",
       "      <td>0</td>\n",
       "      <td>0</td>\n",
       "      <td>0</td>\n",
       "      <td>0</td>\n",
       "      <td>0</td>\n",
       "      <td>...</td>\n",
       "      <td>0</td>\n",
       "      <td>0</td>\n",
       "      <td>0</td>\n",
       "      <td>0</td>\n",
       "      <td>0</td>\n",
       "      <td>0</td>\n",
       "      <td>0</td>\n",
       "      <td>0</td>\n",
       "      <td>0</td>\n",
       "      <td>0</td>\n",
       "    </tr>\n",
       "    <tr>\n",
       "      <th>2</th>\n",
       "      <td>0</td>\n",
       "      <td>0</td>\n",
       "      <td>0</td>\n",
       "      <td>0</td>\n",
       "      <td>0</td>\n",
       "      <td>0</td>\n",
       "      <td>0</td>\n",
       "      <td>0</td>\n",
       "      <td>0</td>\n",
       "      <td>0</td>\n",
       "      <td>...</td>\n",
       "      <td>0</td>\n",
       "      <td>0</td>\n",
       "      <td>0</td>\n",
       "      <td>0</td>\n",
       "      <td>0</td>\n",
       "      <td>0</td>\n",
       "      <td>0</td>\n",
       "      <td>0</td>\n",
       "      <td>0</td>\n",
       "      <td>0</td>\n",
       "    </tr>\n",
       "    <tr>\n",
       "      <th>3</th>\n",
       "      <td>0</td>\n",
       "      <td>0</td>\n",
       "      <td>0</td>\n",
       "      <td>0</td>\n",
       "      <td>0</td>\n",
       "      <td>0</td>\n",
       "      <td>0</td>\n",
       "      <td>0</td>\n",
       "      <td>0</td>\n",
       "      <td>0</td>\n",
       "      <td>...</td>\n",
       "      <td>0</td>\n",
       "      <td>0</td>\n",
       "      <td>0</td>\n",
       "      <td>0</td>\n",
       "      <td>0</td>\n",
       "      <td>0</td>\n",
       "      <td>0</td>\n",
       "      <td>0</td>\n",
       "      <td>0</td>\n",
       "      <td>0</td>\n",
       "    </tr>\n",
       "    <tr>\n",
       "      <th>4</th>\n",
       "      <td>0</td>\n",
       "      <td>0</td>\n",
       "      <td>0</td>\n",
       "      <td>0</td>\n",
       "      <td>0</td>\n",
       "      <td>0</td>\n",
       "      <td>0</td>\n",
       "      <td>0</td>\n",
       "      <td>0</td>\n",
       "      <td>0</td>\n",
       "      <td>...</td>\n",
       "      <td>0</td>\n",
       "      <td>0</td>\n",
       "      <td>0</td>\n",
       "      <td>0</td>\n",
       "      <td>0</td>\n",
       "      <td>0</td>\n",
       "      <td>0</td>\n",
       "      <td>0</td>\n",
       "      <td>0</td>\n",
       "      <td>0</td>\n",
       "    </tr>\n",
       "  </tbody>\n",
       "</table>\n",
       "<p>5 rows × 784 columns</p>\n",
       "</div>"
      ],
      "text/plain": [
       "   pixel0  pixel1  pixel2  pixel3  pixel4  pixel5  pixel6  pixel7  pixel8  \\\n",
       "0       0       0       0       0       0       0       0       0       0   \n",
       "1       0       0       0       0       0       0       0       0       0   \n",
       "2       0       0       0       0       0       0       0       0       0   \n",
       "3       0       0       0       0       0       0       0       0       0   \n",
       "4       0       0       0       0       0       0       0       0       0   \n",
       "\n",
       "   pixel9  ...  pixel774  pixel775  pixel776  pixel777  pixel778  pixel779  \\\n",
       "0       0  ...         0         0         0         0         0         0   \n",
       "1       0  ...         0         0         0         0         0         0   \n",
       "2       0  ...         0         0         0         0         0         0   \n",
       "3       0  ...         0         0         0         0         0         0   \n",
       "4       0  ...         0         0         0         0         0         0   \n",
       "\n",
       "   pixel780  pixel781  pixel782  pixel783  \n",
       "0         0         0         0         0  \n",
       "1         0         0         0         0  \n",
       "2         0         0         0         0  \n",
       "3         0         0         0         0  \n",
       "4         0         0         0         0  \n",
       "\n",
       "[5 rows x 784 columns]"
      ]
     },
     "execution_count": 12,
     "metadata": {},
     "output_type": "execute_result"
    }
   ],
   "source": [
    "train_ds.head()"
   ]
  },
  {
   "cell_type": "markdown",
   "id": "efcef1b0",
   "metadata": {
    "papermill": {
     "duration": 0.032267,
     "end_time": "2021-10-31T17:09:19.139672",
     "exception": false,
     "start_time": "2021-10-31T17:09:19.107405",
     "status": "completed"
    },
    "tags": []
   },
   "source": [
    "## Let's visualise the image and take a look at the label "
   ]
  },
  {
   "cell_type": "code",
   "execution_count": 13,
   "id": "46be1c07",
   "metadata": {
    "execution": {
     "iopub.execute_input": "2021-10-31T17:09:19.218591Z",
     "iopub.status.busy": "2021-10-31T17:09:19.217789Z",
     "iopub.status.idle": "2021-10-31T17:09:19.328324Z",
     "shell.execute_reply": "2021-10-31T17:09:19.329067Z",
     "shell.execute_reply.started": "2021-10-31T17:02:53.976298Z"
    },
    "papermill": {
     "duration": 0.15621,
     "end_time": "2021-10-31T17:09:19.329329",
     "exception": false,
     "start_time": "2021-10-31T17:09:19.173119",
     "status": "completed"
    },
    "tags": []
   },
   "outputs": [
    {
     "name": "stdout",
     "output_type": "stream",
     "text": [
      "1\n"
     ]
    },
    {
     "data": {
      "image/png": "[encoded data removed]",
      "text/plain": [
       "<Figure size 432x288 with 1 Axes>"
      ]
     },
     "metadata": {
      "needs_background": "light"
     },
     "output_type": "display_data"
    }
   ],
   "source": [
    "plt.imshow(train_ds[0:1].values.reshape(28,28))\n",
    "plt.axis(\"off\")\n",
    "print(labels[0])"
   ]
  },
  {
   "cell_type": "markdown",
   "id": "0c7a1404",
   "metadata": {
    "papermill": {
     "duration": 0.032955,
     "end_time": "2021-10-31T17:09:19.418880",
     "exception": false,
     "start_time": "2021-10-31T17:09:19.385925",
     "status": "completed"
    },
    "tags": []
   },
   "source": [
    "## Converting all kinds of data to numpy arrays"
   ]
  },
  {
   "cell_type": "code",
   "execution_count": 14,
   "id": "8f48a603",
   "metadata": {
    "execution": {
     "iopub.execute_input": "2021-10-31T17:09:19.491182Z",
     "iopub.status.busy": "2021-10-31T17:09:19.489598Z",
     "iopub.status.idle": "2021-10-31T17:09:19.491831Z",
     "shell.execute_reply": "2021-10-31T17:09:19.492231Z",
     "shell.execute_reply.started": "2021-10-31T17:02:54.086819Z"
    },
    "papermill": {
     "duration": 0.040225,
     "end_time": "2021-10-31T17:09:19.492353",
     "exception": false,
     "start_time": "2021-10-31T17:09:19.452128",
     "status": "completed"
    },
    "tags": []
   },
   "outputs": [],
   "source": [
    "train_ds=train_ds.values\n",
    "test_ds=test.values\n",
    "labels=labels.to_numpy()             #labels was actually a pandas series\n"
   ]
  },
  {
   "cell_type": "markdown",
   "id": "c528ac1c",
   "metadata": {
    "papermill": {
     "duration": 0.032908,
     "end_time": "2021-10-31T17:09:19.558169",
     "exception": false,
     "start_time": "2021-10-31T17:09:19.525261",
     "status": "completed"
    },
    "tags": []
   },
   "source": [
    "## Converting all kinds of data to Tensors"
   ]
  },
  {
   "cell_type": "code",
   "execution_count": 15,
   "id": "65aea5b1",
   "metadata": {
    "execution": {
     "iopub.execute_input": "2021-10-31T17:09:19.633309Z",
     "iopub.status.busy": "2021-10-31T17:09:19.632792Z",
     "iopub.status.idle": "2021-10-31T17:09:19.900218Z",
     "shell.execute_reply": "2021-10-31T17:09:19.899725Z",
     "shell.execute_reply.started": "2021-10-31T17:02:54.093889Z"
    },
    "papermill": {
     "duration": 0.307237,
     "end_time": "2021-10-31T17:09:19.900350",
     "exception": false,
     "start_time": "2021-10-31T17:09:19.593113",
     "status": "completed"
    },
    "tags": []
   },
   "outputs": [],
   "source": [
    "train_ds=torch.tensor(train_ds)\n",
    "test_ds =torch.tensor(test_ds)\n",
    "labels = torch.tensor(labels)"
   ]
  },
  {
   "cell_type": "markdown",
   "id": "8d395235",
   "metadata": {
    "papermill": {
     "duration": 0.03271,
     "end_time": "2021-10-31T17:09:19.966700",
     "exception": false,
     "start_time": "2021-10-31T17:09:19.933990",
     "status": "completed"
    },
    "tags": []
   },
   "source": [
    "# Organising data into Tensordataset\n",
    " ***Each sample will be retrieved by indexing tensors along the first dimension.***"
   ]
  },
  {
   "cell_type": "code",
   "execution_count": 16,
   "id": "b5b68045",
   "metadata": {
    "execution": {
     "iopub.execute_input": "2021-10-31T17:09:20.040563Z",
     "iopub.status.busy": "2021-10-31T17:09:20.039018Z",
     "iopub.status.idle": "2021-10-31T17:09:20.041157Z",
     "shell.execute_reply": "2021-10-31T17:09:20.041601Z",
     "shell.execute_reply.started": "2021-10-31T17:02:54.383402Z"
    },
    "papermill": {
     "duration": 0.041632,
     "end_time": "2021-10-31T17:09:20.041730",
     "exception": false,
     "start_time": "2021-10-31T17:09:20.000098",
     "status": "completed"
    },
    "tags": []
   },
   "outputs": [],
   "source": [
    "traiin_ds=TensorDataset(train_ds,labels)"
   ]
  },
  {
   "cell_type": "code",
   "execution_count": 17,
   "id": "76255d3a",
   "metadata": {
    "execution": {
     "iopub.execute_input": "2021-10-31T17:09:20.121893Z",
     "iopub.status.busy": "2021-10-31T17:09:20.121388Z",
     "iopub.status.idle": "2021-10-31T17:09:20.149139Z",
     "shell.execute_reply": "2021-10-31T17:09:20.148714Z",
     "shell.execute_reply.started": "2021-10-31T17:02:54.391934Z"
    },
    "papermill": {
     "duration": 0.074225,
     "end_time": "2021-10-31T17:09:20.149241",
     "exception": false,
     "start_time": "2021-10-31T17:09:20.075016",
     "status": "completed"
    },
    "tags": []
   },
   "outputs": [
    {
     "data": {
      "text/plain": [
       "(tensor([[0, 0, 0,  ..., 0, 0, 0],\n",
       "         [0, 0, 0,  ..., 0, 0, 0]]),\n",
       " tensor([1, 0]))"
      ]
     },
     "execution_count": 17,
     "metadata": {},
     "output_type": "execute_result"
    }
   ],
   "source": [
    "traiin_ds[0:2]"
   ]
  },
  {
   "cell_type": "markdown",
   "id": "7cb88531",
   "metadata": {
    "papermill": {
     "duration": 0.033665,
     "end_time": "2021-10-31T17:09:20.216081",
     "exception": false,
     "start_time": "2021-10-31T17:09:20.182416",
     "status": "completed"
    },
    "tags": []
   },
   "source": [
    "## Splitting the Tensordataset into train and validation data"
   ]
  },
  {
   "cell_type": "code",
   "execution_count": 18,
   "id": "0c16eff0",
   "metadata": {
    "execution": {
     "iopub.execute_input": "2021-10-31T17:09:20.293533Z",
     "iopub.status.busy": "2021-10-31T17:09:20.292859Z",
     "iopub.status.idle": "2021-10-31T17:09:20.303025Z",
     "shell.execute_reply": "2021-10-31T17:09:20.302621Z",
     "shell.execute_reply.started": "2021-10-31T17:02:54.426369Z"
    },
    "papermill": {
     "duration": 0.053039,
     "end_time": "2021-10-31T17:09:20.303176",
     "exception": false,
     "start_time": "2021-10-31T17:09:20.250137",
     "status": "completed"
    },
    "tags": []
   },
   "outputs": [],
   "source": [
    "train_ds , val_ds = random_split(traiin_ds,(32000,10000))"
   ]
  },
  {
   "cell_type": "code",
   "execution_count": 19,
   "id": "a7dd1262",
   "metadata": {
    "execution": {
     "iopub.execute_input": "2021-10-31T17:09:20.375538Z",
     "iopub.status.busy": "2021-10-31T17:09:20.374636Z",
     "iopub.status.idle": "2021-10-31T17:09:20.377024Z",
     "shell.execute_reply": "2021-10-31T17:09:20.376515Z",
     "shell.execute_reply.started": "2021-10-31T17:02:54.441064Z"
    },
    "papermill": {
     "duration": 0.039457,
     "end_time": "2021-10-31T17:09:20.377127",
     "exception": false,
     "start_time": "2021-10-31T17:09:20.337670",
     "status": "completed"
    },
    "tags": []
   },
   "outputs": [],
   "source": [
    "# Define hyperparameters\n",
    "batch_size = 150\n",
    "learning_rate = 0.001"
   ]
  },
  {
   "cell_type": "markdown",
   "id": "fa77fc32",
   "metadata": {
    "papermill": {
     "duration": 0.033145,
     "end_time": "2021-10-31T17:09:20.444563",
     "exception": false,
     "start_time": "2021-10-31T17:09:20.411418",
     "status": "completed"
    },
    "tags": []
   },
   "source": [
    "## Create batches"
   ]
  },
  {
   "cell_type": "code",
   "execution_count": 20,
   "id": "848d651e",
   "metadata": {
    "execution": {
     "iopub.execute_input": "2021-10-31T17:09:20.514898Z",
     "iopub.status.busy": "2021-10-31T17:09:20.514035Z",
     "iopub.status.idle": "2021-10-31T17:09:20.516655Z",
     "shell.execute_reply": "2021-10-31T17:09:20.516237Z",
     "shell.execute_reply.started": "2021-10-31T17:02:54.446748Z"
    },
    "papermill": {
     "duration": 0.039272,
     "end_time": "2021-10-31T17:09:20.516761",
     "exception": false,
     "start_time": "2021-10-31T17:09:20.477489",
     "status": "completed"
    },
    "tags": []
   },
   "outputs": [],
   "source": [
    "train_loader=DataLoader(train_ds , batch_size, shuffle = True)\n",
    "val_loader=DataLoader(val_ds , batch_size, shuffle = False)\n"
   ]
  },
  {
   "cell_type": "markdown",
   "id": "da802a8e",
   "metadata": {
    "papermill": {
     "duration": 0.032773,
     "end_time": "2021-10-31T17:09:20.583626",
     "exception": false,
     "start_time": "2021-10-31T17:09:20.550853",
     "status": "completed"
    },
    "tags": []
   },
   "source": [
    "## Constructing the model"
   ]
  },
  {
   "cell_type": "code",
   "execution_count": 21,
   "id": "05bea5f0",
   "metadata": {
    "execution": {
     "iopub.execute_input": "2021-10-31T17:09:20.655385Z",
     "iopub.status.busy": "2021-10-31T17:09:20.653682Z",
     "iopub.status.idle": "2021-10-31T17:09:20.656012Z",
     "shell.execute_reply": "2021-10-31T17:09:20.656436Z",
     "shell.execute_reply.started": "2021-10-31T17:02:54.456070Z"
    },
    "papermill": {
     "duration": 0.039817,
     "end_time": "2021-10-31T17:09:20.656560",
     "exception": false,
     "start_time": "2021-10-31T17:09:20.616743",
     "status": "completed"
    },
    "tags": []
   },
   "outputs": [],
   "source": [
    "# for each image\n",
    "input_size = 784\n",
    "num_class = 10\n",
    "\n"
   ]
  },
  {
   "cell_type": "code",
   "execution_count": 22,
   "id": "36a6769f",
   "metadata": {
    "execution": {
     "iopub.execute_input": "2021-10-31T17:09:20.730083Z",
     "iopub.status.busy": "2021-10-31T17:09:20.729522Z",
     "iopub.status.idle": "2021-10-31T17:09:20.746522Z",
     "shell.execute_reply": "2021-10-31T17:09:20.746065Z",
     "shell.execute_reply.started": "2021-10-31T17:02:54.464927Z"
    },
    "papermill": {
     "duration": 0.056919,
     "end_time": "2021-10-31T17:09:20.746628",
     "exception": false,
     "start_time": "2021-10-31T17:09:20.689709",
     "status": "completed"
    },
    "tags": []
   },
   "outputs": [],
   "source": [
    "class MnistModel(nn.Module):\n",
    "    def __init__(self):\n",
    "        super().__init__()\n",
    "        self.linear = nn.Sequential(nn.Linear(28*28 , 512),\n",
    "                                    nn.ReLU(),\n",
    "                                    nn.Linear(512 , 100),\n",
    "                                    nn.ReLU(),\n",
    "                                    nn.Linear(100 , 10))\n",
    "        \n",
    "        \n",
    "    def forward(self,x):\n",
    "        out = self.linear(x)\n",
    "        return out\n",
    "\n",
    "model = MnistModel()"
   ]
  },
  {
   "cell_type": "markdown",
   "id": "1626df69",
   "metadata": {
    "papermill": {
     "duration": 0.034247,
     "end_time": "2021-10-31T17:09:20.814755",
     "exception": false,
     "start_time": "2021-10-31T17:09:20.780508",
     "status": "completed"
    },
    "tags": []
   },
   "source": [
    "## Define optimizer"
   ]
  },
  {
   "cell_type": "code",
   "execution_count": 23,
   "id": "ba9554f5",
   "metadata": {
    "execution": {
     "iopub.execute_input": "2021-10-31T17:09:20.886253Z",
     "iopub.status.busy": "2021-10-31T17:09:20.885498Z",
     "iopub.status.idle": "2021-10-31T17:09:20.887483Z",
     "shell.execute_reply": "2021-10-31T17:09:20.887899Z",
     "shell.execute_reply.started": "2021-10-31T17:02:54.485817Z"
    },
    "papermill": {
     "duration": 0.039877,
     "end_time": "2021-10-31T17:09:20.888015",
     "exception": false,
     "start_time": "2021-10-31T17:09:20.848138",
     "status": "completed"
    },
    "tags": []
   },
   "outputs": [],
   "source": [
    "opt      = torch.optim.Adam\n",
    "opt = opt(model.parameters(),lr=learning_rate)"
   ]
  },
  {
   "cell_type": "markdown",
   "id": "50bbb7c8",
   "metadata": {
    "papermill": {
     "duration": 0.032564,
     "end_time": "2021-10-31T17:09:20.953698",
     "exception": false,
     "start_time": "2021-10-31T17:09:20.921134",
     "status": "completed"
    },
    "tags": []
   },
   "source": [
    "## Training the model using logistic regression"
   ]
  },
  {
   "cell_type": "code",
   "execution_count": 24,
   "id": "e22c10cc",
   "metadata": {
    "execution": {
     "iopub.execute_input": "2021-10-31T17:09:21.026549Z",
     "iopub.status.busy": "2021-10-31T17:09:21.025854Z",
     "iopub.status.idle": "2021-10-31T17:09:21.028354Z",
     "shell.execute_reply": "2021-10-31T17:09:21.027923Z",
     "shell.execute_reply.started": "2021-10-31T17:02:54.492249Z"
    },
    "papermill": {
     "duration": 0.041349,
     "end_time": "2021-10-31T17:09:21.028471",
     "exception": false,
     "start_time": "2021-10-31T17:09:20.987122",
     "status": "completed"
    },
    "tags": []
   },
   "outputs": [],
   "source": [
    "def fit(epochs,model,data):\n",
    "    \n",
    "    loss_fun = F.cross_entropy\n",
    "    hist = []\n",
    "    for Epoch in range(epochs):\n",
    "        for img,label in data:\n",
    "            out = model(img/255)\n",
    "            loss = loss_fun(out,label)\n",
    "            loss.backward()\n",
    "            opt.step()\n",
    "            opt.zero_grad()\n",
    "            hist.append(loss)\n",
    "        \n",
    "        if (Epoch+1)%10 ==0:\n",
    "            print(f\"Epoch:[{Epoch+1}/{epochs}] ; Loss : {loss}\")\n",
    "    return hist\n",
    "      "
   ]
  },
  {
   "cell_type": "code",
   "execution_count": 25,
   "id": "ba0ed0d6",
   "metadata": {
    "execution": {
     "iopub.execute_input": "2021-10-31T17:09:21.099160Z",
     "iopub.status.busy": "2021-10-31T17:09:21.098519Z",
     "iopub.status.idle": "2021-10-31T17:12:55.700032Z",
     "shell.execute_reply": "2021-10-31T17:12:55.700454Z",
     "shell.execute_reply.started": "2021-10-31T17:02:54.501122Z"
    },
    "papermill": {
     "duration": 214.638507,
     "end_time": "2021-10-31T17:12:55.700661",
     "exception": false,
     "start_time": "2021-10-31T17:09:21.062154",
     "status": "completed"
    },
    "tags": []
   },
   "outputs": [
    {
     "name": "stdout",
     "output_type": "stream",
     "text": [
      "Epoch:[10/90] ; Loss : 0.005305871833115816\n",
      "Epoch:[20/90] ; Loss : 0.00018633031868375838\n",
      "Epoch:[30/90] ; Loss : 2.5580888177501038e-05\n",
      "Epoch:[40/90] ; Loss : 2.895327088481281e-05\n",
      "Epoch:[50/90] ; Loss : 1.0315519830328412e-05\n",
      "Epoch:[60/90] ; Loss : 8.773677109275013e-07\n",
      "Epoch:[70/90] ; Loss : 5.626641268463572e-07\n",
      "Epoch:[80/90] ; Loss : 2.7418047920946265e-07\n",
      "Epoch:[90/90] ; Loss : 9.298320691186746e-08\n"
     ]
    }
   ],
   "source": [
    "hist=fit(90,model,train_loader)"
   ]
  },
  {
   "cell_type": "code",
   "execution_count": 26,
   "id": "dd2decae",
   "metadata": {
    "execution": {
     "iopub.execute_input": "2021-10-31T17:12:55.778529Z",
     "iopub.status.busy": "2021-10-31T17:12:55.777816Z",
     "iopub.status.idle": "2021-10-31T17:12:55.780475Z",
     "shell.execute_reply": "2021-10-31T17:12:55.780005Z",
     "shell.execute_reply.started": "2021-10-31T17:06:23.420460Z"
    },
    "papermill": {
     "duration": 0.04296,
     "end_time": "2021-10-31T17:12:55.780587",
     "exception": false,
     "start_time": "2021-10-31T17:12:55.737627",
     "status": "completed"
    },
    "tags": []
   },
   "outputs": [],
   "source": [
    "def acc(data):\n",
    "    accuracy=[]\n",
    "    for img , label in data:\n",
    "        out = model(img/255)\n",
    "        _,pred_index =torch.max(out,dim=1)\n",
    "        x=torch.sum(pred_index==label)\n",
    "        x=x/len(label)\n",
    "        x=x*100\n",
    "        accuracy.append(x)\n",
    "    return np.mean(accuracy)\n",
    "        \n",
    "        "
   ]
  },
  {
   "cell_type": "code",
   "execution_count": 27,
   "id": "4bd43648",
   "metadata": {
    "execution": {
     "iopub.execute_input": "2021-10-31T17:12:55.858040Z",
     "iopub.status.busy": "2021-10-31T17:12:55.856298Z",
     "iopub.status.idle": "2021-10-31T17:12:56.261203Z",
     "shell.execute_reply": "2021-10-31T17:12:56.261661Z",
     "shell.execute_reply.started": "2021-10-31T17:06:23.429211Z"
    },
    "papermill": {
     "duration": 0.444701,
     "end_time": "2021-10-31T17:12:56.261829",
     "exception": false,
     "start_time": "2021-10-31T17:12:55.817128",
     "status": "completed"
    },
    "tags": []
   },
   "outputs": [
    {
     "data": {
      "text/plain": [
       "97.96519"
      ]
     },
     "execution_count": 27,
     "metadata": {},
     "output_type": "execute_result"
    }
   ],
   "source": [
    "acc(val_loader)"
   ]
  },
  {
   "cell_type": "code",
   "execution_count": 28,
   "id": "00c02429",
   "metadata": {
    "execution": {
     "iopub.execute_input": "2021-10-31T17:12:56.337863Z",
     "iopub.status.busy": "2021-10-31T17:12:56.337119Z",
     "iopub.status.idle": "2021-10-31T17:12:56.339638Z",
     "shell.execute_reply": "2021-10-31T17:12:56.339146Z",
     "shell.execute_reply.started": "2021-10-31T17:08:30.088357Z"
    },
    "papermill": {
     "duration": 0.042086,
     "end_time": "2021-10-31T17:12:56.339764",
     "exception": false,
     "start_time": "2021-10-31T17:12:56.297678",
     "status": "completed"
    },
    "tags": []
   },
   "outputs": [],
   "source": [
    "# plt.plot(hist, range(32100))"
   ]
  },
  {
   "cell_type": "code",
   "execution_count": 29,
   "id": "14fc0be1",
   "metadata": {
    "execution": {
     "iopub.execute_input": "2021-10-31T17:12:56.416180Z",
     "iopub.status.busy": "2021-10-31T17:12:56.415685Z",
     "iopub.status.idle": "2021-10-31T17:12:56.440856Z",
     "shell.execute_reply": "2021-10-31T17:12:56.441247Z",
     "shell.execute_reply.started": "2021-10-31T17:06:51.141920Z"
    },
    "papermill": {
     "duration": 0.06493,
     "end_time": "2021-10-31T17:12:56.441406",
     "exception": false,
     "start_time": "2021-10-31T17:12:56.376476",
     "status": "completed"
    },
    "tags": []
   },
   "outputs": [
    {
     "data": {
      "text/html": [
       "<div>\n",
       "<style scoped>\n",
       "    .dataframe tbody tr th:only-of-type {\n",
       "        vertical-align: middle;\n",
       "    }\n",
       "\n",
       "    .dataframe tbody tr th {\n",
       "        vertical-align: top;\n",
       "    }\n",
       "\n",
       "    .dataframe thead th {\n",
       "        text-align: right;\n",
       "    }\n",
       "</style>\n",
       "<table border=\"1\" class=\"dataframe\">\n",
       "  <thead>\n",
       "    <tr style=\"text-align: right;\">\n",
       "      <th></th>\n",
       "      <th>ImageId</th>\n",
       "      <th>Label</th>\n",
       "    </tr>\n",
       "  </thead>\n",
       "  <tbody>\n",
       "    <tr>\n",
       "      <th>0</th>\n",
       "      <td>1</td>\n",
       "      <td>0</td>\n",
       "    </tr>\n",
       "    <tr>\n",
       "      <th>1</th>\n",
       "      <td>2</td>\n",
       "      <td>0</td>\n",
       "    </tr>\n",
       "    <tr>\n",
       "      <th>2</th>\n",
       "      <td>3</td>\n",
       "      <td>0</td>\n",
       "    </tr>\n",
       "    <tr>\n",
       "      <th>3</th>\n",
       "      <td>4</td>\n",
       "      <td>0</td>\n",
       "    </tr>\n",
       "    <tr>\n",
       "      <th>4</th>\n",
       "      <td>5</td>\n",
       "      <td>0</td>\n",
       "    </tr>\n",
       "  </tbody>\n",
       "</table>\n",
       "</div>"
      ],
      "text/plain": [
       "   ImageId  Label\n",
       "0        1      0\n",
       "1        2      0\n",
       "2        3      0\n",
       "3        4      0\n",
       "4        5      0"
      ]
     },
     "execution_count": 29,
     "metadata": {},
     "output_type": "execute_result"
    }
   ],
   "source": [
    "submission= pd.read_csv(\"../input/digit-recognizer/sample_submission.csv\")\n",
    "submission.head()"
   ]
  },
  {
   "cell_type": "code",
   "execution_count": 30,
   "id": "96775e38",
   "metadata": {
    "execution": {
     "iopub.execute_input": "2021-10-31T17:12:56.518166Z",
     "iopub.status.busy": "2021-10-31T17:12:56.517413Z",
     "iopub.status.idle": "2021-10-31T17:12:56.520092Z",
     "shell.execute_reply": "2021-10-31T17:12:56.520560Z",
     "shell.execute_reply.started": "2021-10-31T17:06:56.626746Z"
    },
    "papermill": {
     "duration": 0.042784,
     "end_time": "2021-10-31T17:12:56.520691",
     "exception": false,
     "start_time": "2021-10-31T17:12:56.477907",
     "status": "completed"
    },
    "tags": []
   },
   "outputs": [
    {
     "data": {
      "text/plain": [
       "28000"
      ]
     },
     "execution_count": 30,
     "metadata": {},
     "output_type": "execute_result"
    }
   ],
   "source": [
    "len(submission)\n"
   ]
  },
  {
   "cell_type": "code",
   "execution_count": 31,
   "id": "0f67737c",
   "metadata": {
    "execution": {
     "iopub.execute_input": "2021-10-31T17:12:56.600564Z",
     "iopub.status.busy": "2021-10-31T17:12:56.599665Z",
     "iopub.status.idle": "2021-10-31T17:12:56.601399Z",
     "shell.execute_reply": "2021-10-31T17:12:56.601885Z",
     "shell.execute_reply.started": "2021-10-31T17:06:59.137347Z"
    },
    "papermill": {
     "duration": 0.044796,
     "end_time": "2021-10-31T17:12:56.602008",
     "exception": false,
     "start_time": "2021-10-31T17:12:56.557212",
     "status": "completed"
    },
    "tags": []
   },
   "outputs": [],
   "source": [
    "def prediction(data):\n",
    "    LABEL=[]\n",
    "    \n",
    "    out = model(data/255)\n",
    "    out = F.softmax(out)     \n",
    "    _,pred_index =torch.max(out,dim=1)\n",
    "    LABEL.append(pred_index)   \n",
    "    return LABEL"
   ]
  },
  {
   "cell_type": "code",
   "execution_count": 32,
   "id": "697f0579",
   "metadata": {
    "execution": {
     "iopub.execute_input": "2021-10-31T17:12:56.682644Z",
     "iopub.status.busy": "2021-10-31T17:12:56.681803Z",
     "iopub.status.idle": "2021-10-31T17:12:57.113571Z",
     "shell.execute_reply": "2021-10-31T17:12:57.112914Z",
     "shell.execute_reply.started": "2021-10-31T17:07:01.481063Z"
    },
    "papermill": {
     "duration": 0.47458,
     "end_time": "2021-10-31T17:12:57.113736",
     "exception": false,
     "start_time": "2021-10-31T17:12:56.639156",
     "status": "completed"
    },
    "tags": []
   },
   "outputs": [
    {
     "name": "stderr",
     "output_type": "stream",
     "text": [
      "/opt/conda/lib/python3.7/site-packages/ipykernel_launcher.py:5: UserWarning: Implicit dimension choice for softmax has been deprecated. Change the call to include dim=X as an argument.\n",
      "  \"\"\"\n"
     ]
    },
    {
     "data": {
      "text/plain": [
       "28000"
      ]
     },
     "execution_count": 32,
     "metadata": {},
     "output_type": "execute_result"
    }
   ],
   "source": [
    "x=prediction(test_ds)\n",
    "len(x[0])"
   ]
  },
  {
   "cell_type": "code",
   "execution_count": 33,
   "id": "6f7fbbb3",
   "metadata": {
    "execution": {
     "iopub.execute_input": "2021-10-31T17:12:57.195968Z",
     "iopub.status.busy": "2021-10-31T17:12:57.194359Z",
     "iopub.status.idle": "2021-10-31T17:12:57.196642Z",
     "shell.execute_reply": "2021-10-31T17:12:57.197071Z",
     "shell.execute_reply.started": "2021-10-31T17:07:10.978608Z"
    },
    "papermill": {
     "duration": 0.043836,
     "end_time": "2021-10-31T17:12:57.197196",
     "exception": false,
     "start_time": "2021-10-31T17:12:57.153360",
     "status": "completed"
    },
    "tags": []
   },
   "outputs": [],
   "source": [
    "x=x[0].numpy()"
   ]
  },
  {
   "cell_type": "code",
   "execution_count": 34,
   "id": "b4ba0422",
   "metadata": {
    "execution": {
     "iopub.execute_input": "2021-10-31T17:12:57.276111Z",
     "iopub.status.busy": "2021-10-31T17:12:57.275441Z",
     "iopub.status.idle": "2021-10-31T17:12:57.278234Z",
     "shell.execute_reply": "2021-10-31T17:12:57.277703Z",
     "shell.execute_reply.started": "2021-10-31T17:07:11.722962Z"
    },
    "papermill": {
     "duration": 0.043847,
     "end_time": "2021-10-31T17:12:57.278351",
     "exception": false,
     "start_time": "2021-10-31T17:12:57.234504",
     "status": "completed"
    },
    "tags": []
   },
   "outputs": [],
   "source": [
    "submission[\"Label\"]=x"
   ]
  },
  {
   "cell_type": "code",
   "execution_count": 35,
   "id": "4ee20fb0",
   "metadata": {
    "execution": {
     "iopub.execute_input": "2021-10-31T17:12:57.355575Z",
     "iopub.status.busy": "2021-10-31T17:12:57.354998Z",
     "iopub.status.idle": "2021-10-31T17:12:57.401618Z",
     "shell.execute_reply": "2021-10-31T17:12:57.401139Z",
     "shell.execute_reply.started": "2021-10-31T17:07:23.318051Z"
    },
    "papermill": {
     "duration": 0.086842,
     "end_time": "2021-10-31T17:12:57.401727",
     "exception": false,
     "start_time": "2021-10-31T17:12:57.314885",
     "status": "completed"
    },
    "tags": []
   },
   "outputs": [],
   "source": [
    "submission.to_csv(\"submission.csv\",index=False)"
   ]
  },
  {
   "cell_type": "markdown",
   "id": "574895e5",
   "metadata": {
    "papermill": {
     "duration": 0.036597,
     "end_time": "2021-10-31T17:12:57.475846",
     "exception": false,
     "start_time": "2021-10-31T17:12:57.439249",
     "status": "completed"
    },
    "tags": []
   },
   "source": [
    "## DO UPVOTE !!"
   ]
  }
 ],
 "metadata": {
  "kernelspec": {
   "display_name": "Python 3 (ipykernel)",
   "language": "python",
   "name": "python3"
  },
  "language_info": {
   "codemirror_mode": {
    "name": "ipython",
    "version": 3
   },
   "file_extension": ".py",
   "mimetype": "text/x-python",
   "name": "python",
   "nbconvert_exporter": "python",
   "pygments_lexer": "ipython3",
   "version": "3.7.3"
  },
  "papermill": {
   "default_parameters": {},
   "duration": 237.42862,
   "end_time": "2021-10-31T17:12:59.127496",
   "environment_variables": {},
   "exception": null,
   "input_path": "__notebook__.ipynb",
   "output_path": "__notebook__.ipynb",
   "parameters": {},
   "start_time": "2021-10-31T17:09:01.698876",
   "version": "2.3.3"
  }
 },
 "nbformat": 4,
 "nbformat_minor": 5
}
