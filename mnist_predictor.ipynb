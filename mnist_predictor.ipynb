{
 "cells": [
  {
   "cell_type": "code",
   "execution_count": 63,
   "id": "165874a0",
   "metadata": {
    "_cell_guid": "b1076dfc-b9ad-4769-8c92-a6c4dae69d19",
    "_uuid": "8f2839f25d086af736a60e9eeb907d3b93b6e0e5",
    "execution": {
     "iopub.execute_input": "2021-10-31T17:09:09.945615Z",
     "iopub.status.busy": "2021-10-31T17:09:09.944816Z",
     "iopub.status.idle": "2021-10-31T17:09:09.951036Z",
     "shell.execute_reply": "2021-10-31T17:09:09.950544Z",
     "shell.execute_reply.started": "2021-10-31T17:02:46.136752Z"
    },
    "papermill": {
     "duration": 0.046713,
     "end_time": "2021-10-31T17:09:09.951165",
     "exception": false,
     "start_time": "2021-10-31T17:09:09.904452",
     "status": "completed"
    },
    "tags": []
   },
   "outputs": [],
   "source": [
    "\n",
    "import numpy as np # linear algebra\n",
    "import pandas as pd # data processing, CSV file I/O (e.g. pd.read_csv)\n",
    "\n"
   ]
  },
  {
   "cell_type": "markdown",
   "id": "271edc97",
   "metadata": {},
   "source": [
    "Epoch\n",
    "1 fw and bw pass of all all training samples\n",
    "\n",
    "batch Size\n",
    "No of training samples in one forwad and backward pass\n",
    "\n",
    "No of iterations\n",
    "no of passes using batch size no of samples\n",
    "\n",
    "So N_total = 1000\n",
    "batch_sie=100\n",
    "no of iterations =1000/100 = 10 iterations per epoch\n"
   ]
  },
  {
   "cell_type": "markdown",
   "id": "89d7e13d",
   "metadata": {
    "papermill": {
     "duration": 0.028897,
     "end_time": "2021-10-31T17:09:10.011229",
     "exception": false,
     "start_time": "2021-10-31T17:09:09.982332",
     "status": "completed"
    },
    "tags": []
   },
   "source": [
    "## Importing required libraries"
   ]
  },
  {
   "cell_type": "code",
   "execution_count": 64,
   "id": "4987e898",
   "metadata": {
    "execution": {
     "iopub.execute_input": "2021-10-31T17:09:10.076915Z",
     "iopub.status.busy": "2021-10-31T17:09:10.076360Z",
     "iopub.status.idle": "2021-10-31T17:09:13.048619Z",
     "shell.execute_reply": "2021-10-31T17:09:13.048052Z",
     "shell.execute_reply.started": "2021-10-31T17:02:46.185927Z"
    },
    "papermill": {
     "duration": 3.007409,
     "end_time": "2021-10-31T17:09:13.048764",
     "exception": false,
     "start_time": "2021-10-31T17:09:10.041355",
     "status": "completed"
    },
    "tags": []
   },
   "outputs": [
    {
     "name": "stdout",
     "output_type": "stream",
     "text": [
      "import done\n"
     ]
    }
   ],
   "source": [
    "import torch\n",
    "import torchvision\n",
    "import torch.nn as nn\n",
    "import torch.nn.functional as F\n",
    "from torch.utils.data import random_split\n",
    "from torch.utils.data import Dataset,DataLoader\n",
    "from torch.utils.data import TensorDataset\n",
    "import matplotlib.pyplot as plt\n",
    "%matplotlib inline\n",
    "from sklearn.preprocessing import MinMaxScaler\n",
    "from sklearn.model_selection import train_test_split\n",
    "\n",
    "print('import done')"
   ]
  },
  {
   "cell_type": "markdown",
   "id": "346b8241",
   "metadata": {
    "papermill": {
     "duration": 0.030605,
     "end_time": "2021-10-31T17:09:13.110351",
     "exception": false,
     "start_time": "2021-10-31T17:09:13.079746",
     "status": "completed"
    },
    "tags": []
   },
   "source": [
    "## Reading the data you are provided with"
   ]
  },
  {
   "cell_type": "code",
   "execution_count": 109,
   "id": "afe86f68",
   "metadata": {},
   "outputs": [],
   "source": [
    "class MNistDataset(Dataset):\n",
    "\n",
    "    def __init__(self,file_name):\n",
    "\n",
    "        location = 'data/'+file_name\n",
    "        xy = pd.read_csv(location,dtype=np.float32)\n",
    "\n",
    "        targets = xy.label.values\n",
    "\n",
    "        features = xy.loc[:, xy.columns != 'label'].values/255\n",
    "\n",
    "        # Split into training and test set\n",
    "        features_train, features_test, target_train, target_test = train_test_split(features, targets, test_size=0.2, random_state=42)\n",
    "        \n",
    "        labels = xy.label\n",
    "        \n",
    "\n",
    "        self.n_samples = xy.shape[0]\n",
    "        \n",
    "        \n",
    "        \n",
    "\n",
    "        self.xtrain_data = torch.from_numpy(np.array(features_train)) # size [n_samples, n_features]\n",
    "        self.ytrain_data = torch.from_numpy(target_train).type(torch.LongTensor) # data \n",
    "        self.xvalid_data = torch.from_numpy(np.array(features_test)) # size [n_samples, n_features]\n",
    "        self.yvalid_data = torch.from_numpy(target_test).type(torch.LongTensor) # data \n",
    "\n",
    "        #self.y_data = torch.from_numpy(np.array(labels))\n",
    "\n",
    "    # support indexing such that dataset[i] can be used to get i-th sample\n",
    "    def __getitem__(self, index):\n",
    "        return self.x_data[index], self.y_data[index]\n",
    "\n",
    "    # we can call len(dataset) to return the size\n",
    "    def __len__(self):\n",
    "        return self.n_samples\n",
    "\n"
   ]
  },
  {
   "cell_type": "code",
   "execution_count": 134,
   "id": "fa40fe1d",
   "metadata": {},
   "outputs": [],
   "source": [
    "location = 'data/'+'train.csv'\n",
    "final_test = pd.read_csv(\"data/test.csv\", dtype=np.float32)\n",
    "train = pd.read_csv(location,dtype=np.float32)\n",
    "targets_np = train.label.values\n",
    "features_np = train.loc[:, train.columns != 'label'].values/255\n",
    "\n",
    "# Split into training and test set\n",
    "features_train, features_test, target_train, target_test = train_test_split(features_np, targets_np, test_size=0.2, random_state=42)\n",
    "\n",
    "# create feature and targets tensor for train set. As you remember we need variable to accumulate gradients. Therefore first we create tensor, then we will create variable\n",
    "featuresTrain = torch.from_numpy(features_train)\n",
    "targetsTrain = torch.from_numpy(target_train).type(torch.LongTensor) # data type is long\n",
    "\n",
    "# create feature and targets tensor for test set.\n",
    "featuresTest = torch.from_numpy(features_test)\n",
    "targetsTest = torch.from_numpy(target_test).type(torch.LongTensor) # data type is long\n",
    "\n",
    "# Set batch size\n",
    "batch_size = 256\n",
    "\n",
    "# Pytorch train and test sets\n",
    "train = torch.utils.data.TensorDataset(featuresTrain,targetsTrain)\n",
    "test = torch.utils.data.TensorDataset(featuresTest,targetsTest)\n",
    "\n",
    "# data loader\n",
    "train_loader = torch.utils.data.DataLoader(train, batch_size = batch_size, shuffle = True)\n",
    "test_loader = torch.utils.data.DataLoader(test, batch_size = batch_size, shuffle = True)\n",
    "\n"
   ]
  },
  {
   "cell_type": "code",
   "execution_count": 110,
   "id": "bb0e7c64",
   "metadata": {},
   "outputs": [],
   "source": [
    "# train = MNistDataset(file_name='train.csv')\n",
    "\n",
    "# X_train,y_train, = train.xtrain_data,train.ytrain_data\n",
    "\n"
   ]
  },
  {
   "cell_type": "markdown",
   "id": "20624145",
   "metadata": {
    "papermill": {
     "duration": 0.03069,
     "end_time": "2021-10-31T17:09:18.363689",
     "exception": false,
     "start_time": "2021-10-31T17:09:18.332999",
     "status": "completed"
    },
    "tags": []
   },
   "source": [
    "## Inspecting the datasets"
   ]
  },
  {
   "cell_type": "code",
   "execution_count": 111,
   "id": "2ae0f066",
   "metadata": {
    "execution": {
     "iopub.execute_input": "2021-10-31T17:09:18.631172Z",
     "iopub.status.busy": "2021-10-31T17:09:18.630093Z",
     "iopub.status.idle": "2021-10-31T17:09:18.633114Z",
     "shell.execute_reply": "2021-10-31T17:09:18.633552Z",
     "shell.execute_reply.started": "2021-10-31T17:02:53.841701Z"
    },
    "papermill": {
     "duration": 0.039668,
     "end_time": "2021-10-31T17:09:18.633677",
     "exception": false,
     "start_time": "2021-10-31T17:09:18.594009",
     "status": "completed"
    },
    "tags": []
   },
   "outputs": [
    {
     "name": "stdout",
     "output_type": "stream",
     "text": [
      "Train X shape: torch.Size([33600, 784])\n",
      "Train y shape: torch.Size([33600])\n"
     ]
    }
   ],
   "source": [
    "# print('Train X shape:',X_train.shape)\n",
    "# print('Train y shape:',y_train.shape)\n"
   ]
  },
  {
   "cell_type": "markdown",
   "id": "7cb88531",
   "metadata": {
    "papermill": {
     "duration": 0.033665,
     "end_time": "2021-10-31T17:09:20.216081",
     "exception": false,
     "start_time": "2021-10-31T17:09:20.182416",
     "status": "completed"
    },
    "tags": []
   },
   "source": [
    "## Splitting the Tensordataset into train and validation data"
   ]
  },
  {
   "cell_type": "code",
   "execution_count": 112,
   "id": "0c16eff0",
   "metadata": {
    "execution": {
     "iopub.execute_input": "2021-10-31T17:09:20.293533Z",
     "iopub.status.busy": "2021-10-31T17:09:20.292859Z",
     "iopub.status.idle": "2021-10-31T17:09:20.303025Z",
     "shell.execute_reply": "2021-10-31T17:09:20.302621Z",
     "shell.execute_reply.started": "2021-10-31T17:02:54.426369Z"
    },
    "papermill": {
     "duration": 0.053039,
     "end_time": "2021-10-31T17:09:20.303176",
     "exception": false,
     "start_time": "2021-10-31T17:09:20.250137",
     "status": "completed"
    },
    "tags": []
   },
   "outputs": [],
   "source": [
    "# # train_ds , val_ds = random_split(train,(32000,10000))\n",
    "\n",
    "# def get_test_data(filename):\n",
    "\n",
    "\n",
    "#     location = 'data/'+filename\n",
    "#     data = pd.read_csv(location,dtype=np.float32)\n",
    "\n",
    "#     data = torch.from_numpy(np.array(data))\n",
    "\n",
    "# test = get_test_data('test.csv')\n",
    "    \n"
   ]
  },
  {
   "cell_type": "code",
   "execution_count": 113,
   "id": "a7dd1262",
   "metadata": {
    "execution": {
     "iopub.execute_input": "2021-10-31T17:09:20.375538Z",
     "iopub.status.busy": "2021-10-31T17:09:20.374636Z",
     "iopub.status.idle": "2021-10-31T17:09:20.377024Z",
     "shell.execute_reply": "2021-10-31T17:09:20.376515Z",
     "shell.execute_reply.started": "2021-10-31T17:02:54.441064Z"
    },
    "papermill": {
     "duration": 0.039457,
     "end_time": "2021-10-31T17:09:20.377127",
     "exception": false,
     "start_time": "2021-10-31T17:09:20.337670",
     "status": "completed"
    },
    "tags": []
   },
   "outputs": [],
   "source": [
    "# # Define hyperparameters\n",
    "# batch_size = 256\n",
    "# learning_rate = 0.001"
   ]
  },
  {
   "cell_type": "markdown",
   "id": "fa77fc32",
   "metadata": {
    "papermill": {
     "duration": 0.033145,
     "end_time": "2021-10-31T17:09:20.444563",
     "exception": false,
     "start_time": "2021-10-31T17:09:20.411418",
     "status": "completed"
    },
    "tags": []
   },
   "source": [
    "## Create batches"
   ]
  },
  {
   "cell_type": "code",
   "execution_count": 114,
   "id": "848d651e",
   "metadata": {
    "execution": {
     "iopub.execute_input": "2021-10-31T17:09:20.514898Z",
     "iopub.status.busy": "2021-10-31T17:09:20.514035Z",
     "iopub.status.idle": "2021-10-31T17:09:20.516655Z",
     "shell.execute_reply": "2021-10-31T17:09:20.516237Z",
     "shell.execute_reply.started": "2021-10-31T17:02:54.446748Z"
    },
    "papermill": {
     "duration": 0.039272,
     "end_time": "2021-10-31T17:09:20.516761",
     "exception": false,
     "start_time": "2021-10-31T17:09:20.477489",
     "status": "completed"
    },
    "tags": []
   },
   "outputs": [],
   "source": [
    "# train_loader=DataLoader(train , batch_size, shuffle = True)\n",
    "# val_loader=DataLoader(test , batch_size, shuffle = False)\n"
   ]
  },
  {
   "cell_type": "markdown",
   "id": "da802a8e",
   "metadata": {
    "papermill": {
     "duration": 0.032773,
     "end_time": "2021-10-31T17:09:20.583626",
     "exception": false,
     "start_time": "2021-10-31T17:09:20.550853",
     "status": "completed"
    },
    "tags": []
   },
   "source": [
    "## Constructing the model"
   ]
  },
  {
   "cell_type": "code",
   "execution_count": 115,
   "id": "05bea5f0",
   "metadata": {
    "execution": {
     "iopub.execute_input": "2021-10-31T17:09:20.655385Z",
     "iopub.status.busy": "2021-10-31T17:09:20.653682Z",
     "iopub.status.idle": "2021-10-31T17:09:20.656012Z",
     "shell.execute_reply": "2021-10-31T17:09:20.656436Z",
     "shell.execute_reply.started": "2021-10-31T17:02:54.456070Z"
    },
    "papermill": {
     "duration": 0.039817,
     "end_time": "2021-10-31T17:09:20.656560",
     "exception": false,
     "start_time": "2021-10-31T17:09:20.616743",
     "status": "completed"
    },
    "tags": []
   },
   "outputs": [],
   "source": [
    "# for each image\n",
    "input_size = 784\n",
    "num_class = 10\n",
    "\n"
   ]
  },
  {
   "cell_type": "code",
   "execution_count": 128,
   "id": "36a6769f",
   "metadata": {
    "execution": {
     "iopub.execute_input": "2021-10-31T17:09:20.730083Z",
     "iopub.status.busy": "2021-10-31T17:09:20.729522Z",
     "iopub.status.idle": "2021-10-31T17:09:20.746522Z",
     "shell.execute_reply": "2021-10-31T17:09:20.746065Z",
     "shell.execute_reply.started": "2021-10-31T17:02:54.464927Z"
    },
    "papermill": {
     "duration": 0.056919,
     "end_time": "2021-10-31T17:09:20.746628",
     "exception": false,
     "start_time": "2021-10-31T17:09:20.689709",
     "status": "completed"
    },
    "tags": []
   },
   "outputs": [],
   "source": [
    "class MnistModel(nn.Module):\n",
    "\n",
    "    def __init__(self):\n",
    "\n",
    "        # inherit init method of parent nn.Module class\n",
    "        super().__init__()\n",
    "\n",
    "        self.linear = nn.Sequential(nn.Linear(28*28 , 512),\n",
    "                                    nn.ReLU(),\n",
    "                                    nn.Linear(512 , 100),\n",
    "                                    nn.ReLU(),\n",
    "                                    nn.Linear(100 , 10))\n",
    "        \n",
    "        \n",
    "    def forward(self,x):\n",
    "        output = self.linear(x)\n",
    "        return output\n",
    "model = MnistModel()\n",
    "\n",
    "\n",
    "class Classifier(nn.Module):\n",
    "    def __init__(self):\n",
    "        super().__init__()\n",
    "        # 5 Hidden Layer Network\n",
    "        self.fc1 = nn.Linear(28*28, 512)\n",
    "        self.fc2 = nn.Linear(512, 256)\n",
    "        self.fc3 = nn.Linear(256, 128)\n",
    "        self.fc4 = nn.Linear(128, 64)\n",
    "        self.fc5 = nn.Linear(64, 10)\n",
    "        \n",
    "        # Dropout module with 0.2 probbability\n",
    "        self.dropout = nn.Dropout(p=0.2)\n",
    "        # Add softmax on output layer\n",
    "        self.log_softmax = F.log_softmax\n",
    "        \n",
    "    def forward(self, x):\n",
    "        x = self.dropout(F.relu(self.fc1(x)))\n",
    "        x = self.dropout(F.relu(self.fc2(x)))\n",
    "        x = self.dropout(F.relu(self.fc3(x)))\n",
    "        x = self.dropout(F.relu(self.fc4(x)))\n",
    "        \n",
    "        x = self.log_softmax(self.fc5(x), dim=1)\n",
    "        \n",
    "        return x"
   ]
  },
  {
   "cell_type": "markdown",
   "id": "1626df69",
   "metadata": {
    "papermill": {
     "duration": 0.034247,
     "end_time": "2021-10-31T17:09:20.814755",
     "exception": false,
     "start_time": "2021-10-31T17:09:20.780508",
     "status": "completed"
    },
    "tags": []
   },
   "source": [
    "## Define optimizer"
   ]
  },
  {
   "cell_type": "code",
   "execution_count": 124,
   "id": "ba9554f5",
   "metadata": {
    "execution": {
     "iopub.execute_input": "2021-10-31T17:09:20.886253Z",
     "iopub.status.busy": "2021-10-31T17:09:20.885498Z",
     "iopub.status.idle": "2021-10-31T17:09:20.887483Z",
     "shell.execute_reply": "2021-10-31T17:09:20.887899Z",
     "shell.execute_reply.started": "2021-10-31T17:02:54.485817Z"
    },
    "papermill": {
     "duration": 0.039877,
     "end_time": "2021-10-31T17:09:20.888015",
     "exception": false,
     "start_time": "2021-10-31T17:09:20.848138",
     "status": "completed"
    },
    "tags": []
   },
   "outputs": [],
   "source": [
    "optimizer      = torch.optim.Adam\n",
    "opt = optimizer(model.parameters(),lr=0.0015)"
   ]
  },
  {
   "cell_type": "markdown",
   "id": "50bbb7c8",
   "metadata": {
    "papermill": {
     "duration": 0.032564,
     "end_time": "2021-10-31T17:09:20.953698",
     "exception": false,
     "start_time": "2021-10-31T17:09:20.921134",
     "status": "completed"
    },
    "tags": []
   },
   "source": [
    "## Training the model using logistic regression"
   ]
  },
  {
   "cell_type": "code",
   "execution_count": 118,
   "id": "e22c10cc",
   "metadata": {
    "execution": {
     "iopub.execute_input": "2021-10-31T17:09:21.026549Z",
     "iopub.status.busy": "2021-10-31T17:09:21.025854Z",
     "iopub.status.idle": "2021-10-31T17:09:21.028354Z",
     "shell.execute_reply": "2021-10-31T17:09:21.027923Z",
     "shell.execute_reply.started": "2021-10-31T17:02:54.492249Z"
    },
    "papermill": {
     "duration": 0.041349,
     "end_time": "2021-10-31T17:09:21.028471",
     "exception": false,
     "start_time": "2021-10-31T17:09:20.987122",
     "status": "completed"
    },
    "tags": []
   },
   "outputs": [],
   "source": [
    "def fit(epochs,model,data):\n",
    "    \n",
    "    loss_fun = F.cross_entropy\n",
    "    hist = []\n",
    "    for Epoch in range(epochs):\n",
    "        for img,label in data:\n",
    "            out = model(img/255)\n",
    "            loss = loss_fun(out,label)\n",
    "            loss.backward()\n",
    "            opt.step()\n",
    "            opt.zero_grad()\n",
    "            hist.append(loss)\n",
    "        \n",
    "        if (Epoch+1)%10 ==0:\n",
    "            print(f\"Epoch:[{Epoch+1}/{epochs}] ; Loss : {loss}\")\n",
    "    return hist\n",
    "      "
   ]
  },
  {
   "cell_type": "code",
   "execution_count": 129,
   "id": "0d2723da",
   "metadata": {},
   "outputs": [
    {
     "name": "stdout",
     "output_type": "stream",
     "text": [
      "Epoch: 1/25..  Training Loss: 0.409..  Test Loss: 0.418..  Test Accuracy: 0.869\n",
      "Epoch: 1/25..  Training Loss: 0.564..  Test Loss: 0.288..  Test Accuracy: 0.912\n",
      "Epoch: 2/25..  Training Loss: 0.032..  Test Loss: 0.209..  Test Accuracy: 0.935\n",
      "Epoch: 2/25..  Training Loss: 0.119..  Test Loss: 0.180..  Test Accuracy: 0.945\n",
      "Epoch: 2/25..  Training Loss: 0.193..  Test Loss: 0.140..  Test Accuracy: 0.958\n",
      "Epoch: 3/25..  Training Loss: 0.042..  Test Loss: 0.158..  Test Accuracy: 0.952\n",
      "Epoch: 3/25..  Training Loss: 0.099..  Test Loss: 0.128..  Test Accuracy: 0.962\n",
      "Epoch: 4/25..  Training Loss: 0.003..  Test Loss: 0.128..  Test Accuracy: 0.961\n",
      "Epoch: 4/25..  Training Loss: 0.047..  Test Loss: 0.122..  Test Accuracy: 0.965\n",
      "Epoch: 4/25..  Training Loss: 0.091..  Test Loss: 0.110..  Test Accuracy: 0.967\n",
      "Epoch: 5/25..  Training Loss: 0.016..  Test Loss: 0.125..  Test Accuracy: 0.965\n",
      "Epoch: 5/25..  Training Loss: 0.050..  Test Loss: 0.108..  Test Accuracy: 0.969\n",
      "Epoch: 5/25..  Training Loss: 0.086..  Test Loss: 0.100..  Test Accuracy: 0.970\n",
      "Epoch: 6/25..  Training Loss: 0.024..  Test Loss: 0.108..  Test Accuracy: 0.970\n",
      "Epoch: 6/25..  Training Loss: 0.051..  Test Loss: 0.106..  Test Accuracy: 0.970\n",
      "Epoch: 7/25..  Training Loss: 0.003..  Test Loss: 0.112..  Test Accuracy: 0.967\n",
      "Epoch: 7/25..  Training Loss: 0.029..  Test Loss: 0.095..  Test Accuracy: 0.974\n",
      "Epoch: 7/25..  Training Loss: 0.053..  Test Loss: 0.102..  Test Accuracy: 0.971\n",
      "Epoch: 8/25..  Training Loss: 0.011..  Test Loss: 0.099..  Test Accuracy: 0.973\n",
      "Epoch: 8/25..  Training Loss: 0.036..  Test Loss: 0.108..  Test Accuracy: 0.971\n",
      "Epoch: 8/25..  Training Loss: 0.061..  Test Loss: 0.097..  Test Accuracy: 0.972\n",
      "Epoch: 9/25..  Training Loss: 0.018..  Test Loss: 0.102..  Test Accuracy: 0.974\n",
      "Epoch: 9/25..  Training Loss: 0.037..  Test Loss: 0.106..  Test Accuracy: 0.973\n",
      "Epoch: 10/25..  Training Loss: 0.005..  Test Loss: 0.100..  Test Accuracy: 0.974\n",
      "Epoch: 10/25..  Training Loss: 0.022..  Test Loss: 0.098..  Test Accuracy: 0.974\n",
      "Epoch: 10/25..  Training Loss: 0.041..  Test Loss: 0.102..  Test Accuracy: 0.974\n",
      "Epoch: 11/25..  Training Loss: 0.009..  Test Loss: 0.103..  Test Accuracy: 0.974\n",
      "Epoch: 11/25..  Training Loss: 0.023..  Test Loss: 0.118..  Test Accuracy: 0.968\n",
      "Epoch: 11/25..  Training Loss: 0.042..  Test Loss: 0.090..  Test Accuracy: 0.974\n",
      "Epoch: 12/25..  Training Loss: 0.011..  Test Loss: 0.099..  Test Accuracy: 0.975\n",
      "Epoch: 12/25..  Training Loss: 0.025..  Test Loss: 0.103..  Test Accuracy: 0.974\n",
      "Epoch: 13/25..  Training Loss: 0.005..  Test Loss: 0.111..  Test Accuracy: 0.974\n",
      "Epoch: 13/25..  Training Loss: 0.019..  Test Loss: 0.105..  Test Accuracy: 0.973\n",
      "Epoch: 13/25..  Training Loss: 0.036..  Test Loss: 0.093..  Test Accuracy: 0.976\n",
      "Epoch: 14/25..  Training Loss: 0.009..  Test Loss: 0.098..  Test Accuracy: 0.975\n",
      "Epoch: 14/25..  Training Loss: 0.021..  Test Loss: 0.108..  Test Accuracy: 0.973\n",
      "Epoch: 15/25..  Training Loss: 0.000..  Test Loss: 0.126..  Test Accuracy: 0.968\n",
      "Epoch: 15/25..  Training Loss: 0.016..  Test Loss: 0.119..  Test Accuracy: 0.973\n",
      "Epoch: 15/25..  Training Loss: 0.031..  Test Loss: 0.102..  Test Accuracy: 0.976\n",
      "Epoch: 16/25..  Training Loss: 0.005..  Test Loss: 0.114..  Test Accuracy: 0.974\n",
      "Epoch: 16/25..  Training Loss: 0.015..  Test Loss: 0.108..  Test Accuracy: 0.976\n",
      "Epoch: 16/25..  Training Loss: 0.026..  Test Loss: 0.113..  Test Accuracy: 0.976\n",
      "Epoch: 17/25..  Training Loss: 0.009..  Test Loss: 0.100..  Test Accuracy: 0.976\n",
      "Epoch: 17/25..  Training Loss: 0.019..  Test Loss: 0.119..  Test Accuracy: 0.975\n",
      "Epoch: 18/25..  Training Loss: 0.001..  Test Loss: 0.097..  Test Accuracy: 0.978\n",
      "Epoch: 18/25..  Training Loss: 0.011..  Test Loss: 0.111..  Test Accuracy: 0.977\n",
      "Epoch: 18/25..  Training Loss: 0.021..  Test Loss: 0.109..  Test Accuracy: 0.976\n",
      "Epoch: 19/25..  Training Loss: 0.006..  Test Loss: 0.103..  Test Accuracy: 0.973\n",
      "Epoch: 19/25..  Training Loss: 0.015..  Test Loss: 0.118..  Test Accuracy: 0.975\n",
      "Epoch: 19/25..  Training Loss: 0.026..  Test Loss: 0.104..  Test Accuracy: 0.978\n",
      "Epoch: 20/25..  Training Loss: 0.010..  Test Loss: 0.110..  Test Accuracy: 0.976\n",
      "Epoch: 20/25..  Training Loss: 0.019..  Test Loss: 0.096..  Test Accuracy: 0.978\n",
      "Epoch: 21/25..  Training Loss: 0.001..  Test Loss: 0.095..  Test Accuracy: 0.979\n",
      "Epoch: 21/25..  Training Loss: 0.010..  Test Loss: 0.105..  Test Accuracy: 0.978\n",
      "Epoch: 21/25..  Training Loss: 0.017..  Test Loss: 0.102..  Test Accuracy: 0.980\n",
      "Epoch: 22/25..  Training Loss: 0.006..  Test Loss: 0.107..  Test Accuracy: 0.976\n",
      "Epoch: 22/25..  Training Loss: 0.015..  Test Loss: 0.102..  Test Accuracy: 0.976\n",
      "Epoch: 22/25..  Training Loss: 0.025..  Test Loss: 0.101..  Test Accuracy: 0.978\n",
      "Epoch: 23/25..  Training Loss: 0.007..  Test Loss: 0.121..  Test Accuracy: 0.976\n",
      "Epoch: 23/25..  Training Loss: 0.015..  Test Loss: 0.122..  Test Accuracy: 0.977\n",
      "Epoch: 24/25..  Training Loss: 0.003..  Test Loss: 0.114..  Test Accuracy: 0.975\n",
      "Epoch: 24/25..  Training Loss: 0.009..  Test Loss: 0.118..  Test Accuracy: 0.976\n",
      "Epoch: 24/25..  Training Loss: 0.019..  Test Loss: 0.106..  Test Accuracy: 0.978\n",
      "Epoch: 25/25..  Training Loss: 0.004..  Test Loss: 0.108..  Test Accuracy: 0.978\n",
      "Epoch: 25/25..  Training Loss: 0.010..  Test Loss: 0.111..  Test Accuracy: 0.976\n",
      "Epoch: 25/25..  Training Loss: 0.018..  Test Loss: 0.109..  Test Accuracy: 0.978\n"
     ]
    }
   ],
   "source": [
    "# Instantiate our model\n",
    "model = Classifier()\n",
    "# Define our loss function\n",
    "criterion = nn.NLLLoss()\n",
    "# Define the optimier\n",
    "optimizer = torch.optim.Adam(model.parameters(), lr=0.0015)\n",
    "\n",
    "epochs = 25\n",
    "steps = 0\n",
    "print_every = 50\n",
    "train_losses, test_losses = [], []\n",
    "\n",
    "for e in range(epochs):\n",
    "    running_loss = 0\n",
    "    for images, labels in train_loader:\n",
    "        steps += 1\n",
    "        # Prevent accumulation of gradients\n",
    "        optimizer.zero_grad()\n",
    "        # Make predictions\n",
    "        log_ps = model(images)\n",
    "        loss = criterion(log_ps, labels)\n",
    "        #backprop\n",
    "        loss.backward()\n",
    "        optimizer.step()\n",
    "        \n",
    "        running_loss += loss.item()\n",
    "        if steps % print_every == 0:\n",
    "            test_loss = 0\n",
    "            accuracy = 0\n",
    "\n",
    "            # Turn off gradients for validation\n",
    "            with torch.no_grad():\n",
    "                model.eval()\n",
    "                for images, labels in test_loader:\n",
    "                    log_ps = model(images)\n",
    "                    test_loss += criterion(log_ps, labels)\n",
    "\n",
    "                    ps = torch.exp(log_ps)\n",
    "                    # Get our top predictions\n",
    "                    top_p, top_class = ps.topk(1, dim=1)\n",
    "                    equals = top_class == labels.view(*top_class.shape)\n",
    "                    accuracy += torch.mean(equals.type(torch.FloatTensor))\n",
    "\n",
    "            model.train()\n",
    "\n",
    "            train_losses.append(running_loss/len(train_loader))\n",
    "            test_losses.append(test_loss/len(test_loader))\n",
    "\n",
    "            print(\"Epoch: {}/{}.. \".format(e+1, epochs),\n",
    "                  \"Training Loss: {:.3f}.. \".format(train_losses[-1]),\n",
    "                  \"Test Loss: {:.3f}.. \".format(test_losses[-1]),\n",
    "                  \"Test Accuracy: {:.3f}\".format(accuracy/len(test_loader)))"
   ]
  },
  {
   "cell_type": "code",
   "execution_count": 107,
   "id": "ba0ed0d6",
   "metadata": {
    "execution": {
     "iopub.execute_input": "2021-10-31T17:09:21.099160Z",
     "iopub.status.busy": "2021-10-31T17:09:21.098519Z",
     "iopub.status.idle": "2021-10-31T17:12:55.700032Z",
     "shell.execute_reply": "2021-10-31T17:12:55.700454Z",
     "shell.execute_reply.started": "2021-10-31T17:02:54.501122Z"
    },
    "papermill": {
     "duration": 214.638507,
     "end_time": "2021-10-31T17:12:55.700661",
     "exception": false,
     "start_time": "2021-10-31T17:09:21.062154",
     "status": "completed"
    },
    "tags": []
   },
   "outputs": [
    {
     "ename": "IndexError",
     "evalue": "index 40170 is out of bounds for dimension 0 with size 33600",
     "output_type": "error",
     "traceback": [
      "\u001b[1;31m---------------------------------------------------------------------------\u001b[0m",
      "\u001b[1;31mIndexError\u001b[0m                                Traceback (most recent call last)",
      "\u001b[1;32m~\\AppData\\Local\\Temp/ipykernel_15340/2449556256.py\u001b[0m in \u001b[0;36m<module>\u001b[1;34m\u001b[0m\n\u001b[1;32m----> 1\u001b[1;33m \u001b[0mhist\u001b[0m\u001b[1;33m=\u001b[0m\u001b[0mfit\u001b[0m\u001b[1;33m(\u001b[0m\u001b[0mepochs\u001b[0m\u001b[1;33m=\u001b[0m\u001b[1;36m90\u001b[0m\u001b[1;33m,\u001b[0m\u001b[0mmodel\u001b[0m\u001b[1;33m=\u001b[0m\u001b[0mmodel\u001b[0m\u001b[1;33m,\u001b[0m\u001b[0mdata\u001b[0m\u001b[1;33m=\u001b[0m\u001b[0mtrain_loader\u001b[0m\u001b[1;33m)\u001b[0m\u001b[1;33m\u001b[0m\u001b[1;33m\u001b[0m\u001b[0m\n\u001b[0m",
      "\u001b[1;32m~\\AppData\\Local\\Temp/ipykernel_15340/2886766814.py\u001b[0m in \u001b[0;36mfit\u001b[1;34m(epochs, model, data)\u001b[0m\n\u001b[0;32m      4\u001b[0m     \u001b[0mhist\u001b[0m \u001b[1;33m=\u001b[0m \u001b[1;33m[\u001b[0m\u001b[1;33m]\u001b[0m\u001b[1;33m\u001b[0m\u001b[1;33m\u001b[0m\u001b[0m\n\u001b[0;32m      5\u001b[0m     \u001b[1;32mfor\u001b[0m \u001b[0mEpoch\u001b[0m \u001b[1;32min\u001b[0m \u001b[0mrange\u001b[0m\u001b[1;33m(\u001b[0m\u001b[0mepochs\u001b[0m\u001b[1;33m)\u001b[0m\u001b[1;33m:\u001b[0m\u001b[1;33m\u001b[0m\u001b[1;33m\u001b[0m\u001b[0m\n\u001b[1;32m----> 6\u001b[1;33m         \u001b[1;32mfor\u001b[0m \u001b[0mimg\u001b[0m\u001b[1;33m,\u001b[0m\u001b[0mlabel\u001b[0m \u001b[1;32min\u001b[0m \u001b[0mdata\u001b[0m\u001b[1;33m:\u001b[0m\u001b[1;33m\u001b[0m\u001b[1;33m\u001b[0m\u001b[0m\n\u001b[0m\u001b[0;32m      7\u001b[0m             \u001b[0mout\u001b[0m \u001b[1;33m=\u001b[0m \u001b[0mmodel\u001b[0m\u001b[1;33m(\u001b[0m\u001b[0mimg\u001b[0m\u001b[1;33m/\u001b[0m\u001b[1;36m255\u001b[0m\u001b[1;33m)\u001b[0m\u001b[1;33m\u001b[0m\u001b[1;33m\u001b[0m\u001b[0m\n\u001b[0;32m      8\u001b[0m             \u001b[0mloss\u001b[0m \u001b[1;33m=\u001b[0m \u001b[0mloss_fun\u001b[0m\u001b[1;33m(\u001b[0m\u001b[0mout\u001b[0m\u001b[1;33m,\u001b[0m\u001b[0mlabel\u001b[0m\u001b[1;33m)\u001b[0m\u001b[1;33m\u001b[0m\u001b[1;33m\u001b[0m\u001b[0m\n",
      "\u001b[1;32md:\\ProgramData\\Anaconda3\\envs\\envpytorch\\lib\\site-packages\\torch\\utils\\data\\dataloader.py\u001b[0m in \u001b[0;36m__next__\u001b[1;34m(self)\u001b[0m\n\u001b[0;32m    343\u001b[0m \u001b[1;33m\u001b[0m\u001b[0m\n\u001b[0;32m    344\u001b[0m     \u001b[1;32mdef\u001b[0m \u001b[0m__next__\u001b[0m\u001b[1;33m(\u001b[0m\u001b[0mself\u001b[0m\u001b[1;33m)\u001b[0m\u001b[1;33m:\u001b[0m\u001b[1;33m\u001b[0m\u001b[1;33m\u001b[0m\u001b[0m\n\u001b[1;32m--> 345\u001b[1;33m         \u001b[0mdata\u001b[0m \u001b[1;33m=\u001b[0m \u001b[0mself\u001b[0m\u001b[1;33m.\u001b[0m\u001b[0m_next_data\u001b[0m\u001b[1;33m(\u001b[0m\u001b[1;33m)\u001b[0m\u001b[1;33m\u001b[0m\u001b[1;33m\u001b[0m\u001b[0m\n\u001b[0m\u001b[0;32m    346\u001b[0m         \u001b[0mself\u001b[0m\u001b[1;33m.\u001b[0m\u001b[0m_num_yielded\u001b[0m \u001b[1;33m+=\u001b[0m \u001b[1;36m1\u001b[0m\u001b[1;33m\u001b[0m\u001b[1;33m\u001b[0m\u001b[0m\n\u001b[0;32m    347\u001b[0m         \u001b[1;32mif\u001b[0m \u001b[0mself\u001b[0m\u001b[1;33m.\u001b[0m\u001b[0m_dataset_kind\u001b[0m \u001b[1;33m==\u001b[0m \u001b[0m_DatasetKind\u001b[0m\u001b[1;33m.\u001b[0m\u001b[0mIterable\u001b[0m \u001b[1;32mand\u001b[0m\u001b[0;31m \u001b[0m\u001b[0;31m\\\u001b[0m\u001b[1;33m\u001b[0m\u001b[1;33m\u001b[0m\u001b[0m\n",
      "\u001b[1;32md:\\ProgramData\\Anaconda3\\envs\\envpytorch\\lib\\site-packages\\torch\\utils\\data\\dataloader.py\u001b[0m in \u001b[0;36m_next_data\u001b[1;34m(self)\u001b[0m\n\u001b[0;32m    383\u001b[0m     \u001b[1;32mdef\u001b[0m \u001b[0m_next_data\u001b[0m\u001b[1;33m(\u001b[0m\u001b[0mself\u001b[0m\u001b[1;33m)\u001b[0m\u001b[1;33m:\u001b[0m\u001b[1;33m\u001b[0m\u001b[1;33m\u001b[0m\u001b[0m\n\u001b[0;32m    384\u001b[0m         \u001b[0mindex\u001b[0m \u001b[1;33m=\u001b[0m \u001b[0mself\u001b[0m\u001b[1;33m.\u001b[0m\u001b[0m_next_index\u001b[0m\u001b[1;33m(\u001b[0m\u001b[1;33m)\u001b[0m  \u001b[1;31m# may raise StopIteration\u001b[0m\u001b[1;33m\u001b[0m\u001b[1;33m\u001b[0m\u001b[0m\n\u001b[1;32m--> 385\u001b[1;33m         \u001b[0mdata\u001b[0m \u001b[1;33m=\u001b[0m \u001b[0mself\u001b[0m\u001b[1;33m.\u001b[0m\u001b[0m_dataset_fetcher\u001b[0m\u001b[1;33m.\u001b[0m\u001b[0mfetch\u001b[0m\u001b[1;33m(\u001b[0m\u001b[0mindex\u001b[0m\u001b[1;33m)\u001b[0m  \u001b[1;31m# may raise StopIteration\u001b[0m\u001b[1;33m\u001b[0m\u001b[1;33m\u001b[0m\u001b[0m\n\u001b[0m\u001b[0;32m    386\u001b[0m         \u001b[1;32mif\u001b[0m \u001b[0mself\u001b[0m\u001b[1;33m.\u001b[0m\u001b[0m_pin_memory\u001b[0m\u001b[1;33m:\u001b[0m\u001b[1;33m\u001b[0m\u001b[1;33m\u001b[0m\u001b[0m\n\u001b[0;32m    387\u001b[0m             \u001b[0mdata\u001b[0m \u001b[1;33m=\u001b[0m \u001b[0m_utils\u001b[0m\u001b[1;33m.\u001b[0m\u001b[0mpin_memory\u001b[0m\u001b[1;33m.\u001b[0m\u001b[0mpin_memory\u001b[0m\u001b[1;33m(\u001b[0m\u001b[0mdata\u001b[0m\u001b[1;33m)\u001b[0m\u001b[1;33m\u001b[0m\u001b[1;33m\u001b[0m\u001b[0m\n",
      "\u001b[1;32md:\\ProgramData\\Anaconda3\\envs\\envpytorch\\lib\\site-packages\\torch\\utils\\data\\_utils\\fetch.py\u001b[0m in \u001b[0;36mfetch\u001b[1;34m(self, possibly_batched_index)\u001b[0m\n\u001b[0;32m     42\u001b[0m     \u001b[1;32mdef\u001b[0m \u001b[0mfetch\u001b[0m\u001b[1;33m(\u001b[0m\u001b[0mself\u001b[0m\u001b[1;33m,\u001b[0m \u001b[0mpossibly_batched_index\u001b[0m\u001b[1;33m)\u001b[0m\u001b[1;33m:\u001b[0m\u001b[1;33m\u001b[0m\u001b[1;33m\u001b[0m\u001b[0m\n\u001b[0;32m     43\u001b[0m         \u001b[1;32mif\u001b[0m \u001b[0mself\u001b[0m\u001b[1;33m.\u001b[0m\u001b[0mauto_collation\u001b[0m\u001b[1;33m:\u001b[0m\u001b[1;33m\u001b[0m\u001b[1;33m\u001b[0m\u001b[0m\n\u001b[1;32m---> 44\u001b[1;33m             \u001b[0mdata\u001b[0m \u001b[1;33m=\u001b[0m \u001b[1;33m[\u001b[0m\u001b[0mself\u001b[0m\u001b[1;33m.\u001b[0m\u001b[0mdataset\u001b[0m\u001b[1;33m[\u001b[0m\u001b[0midx\u001b[0m\u001b[1;33m]\u001b[0m \u001b[1;32mfor\u001b[0m \u001b[0midx\u001b[0m \u001b[1;32min\u001b[0m \u001b[0mpossibly_batched_index\u001b[0m\u001b[1;33m]\u001b[0m\u001b[1;33m\u001b[0m\u001b[1;33m\u001b[0m\u001b[0m\n\u001b[0m\u001b[0;32m     45\u001b[0m         \u001b[1;32melse\u001b[0m\u001b[1;33m:\u001b[0m\u001b[1;33m\u001b[0m\u001b[1;33m\u001b[0m\u001b[0m\n\u001b[0;32m     46\u001b[0m             \u001b[0mdata\u001b[0m \u001b[1;33m=\u001b[0m \u001b[0mself\u001b[0m\u001b[1;33m.\u001b[0m\u001b[0mdataset\u001b[0m\u001b[1;33m[\u001b[0m\u001b[0mpossibly_batched_index\u001b[0m\u001b[1;33m]\u001b[0m\u001b[1;33m\u001b[0m\u001b[1;33m\u001b[0m\u001b[0m\n",
      "\u001b[1;32md:\\ProgramData\\Anaconda3\\envs\\envpytorch\\lib\\site-packages\\torch\\utils\\data\\_utils\\fetch.py\u001b[0m in \u001b[0;36m<listcomp>\u001b[1;34m(.0)\u001b[0m\n\u001b[0;32m     42\u001b[0m     \u001b[1;32mdef\u001b[0m \u001b[0mfetch\u001b[0m\u001b[1;33m(\u001b[0m\u001b[0mself\u001b[0m\u001b[1;33m,\u001b[0m \u001b[0mpossibly_batched_index\u001b[0m\u001b[1;33m)\u001b[0m\u001b[1;33m:\u001b[0m\u001b[1;33m\u001b[0m\u001b[1;33m\u001b[0m\u001b[0m\n\u001b[0;32m     43\u001b[0m         \u001b[1;32mif\u001b[0m \u001b[0mself\u001b[0m\u001b[1;33m.\u001b[0m\u001b[0mauto_collation\u001b[0m\u001b[1;33m:\u001b[0m\u001b[1;33m\u001b[0m\u001b[1;33m\u001b[0m\u001b[0m\n\u001b[1;32m---> 44\u001b[1;33m             \u001b[0mdata\u001b[0m \u001b[1;33m=\u001b[0m \u001b[1;33m[\u001b[0m\u001b[0mself\u001b[0m\u001b[1;33m.\u001b[0m\u001b[0mdataset\u001b[0m\u001b[1;33m[\u001b[0m\u001b[0midx\u001b[0m\u001b[1;33m]\u001b[0m \u001b[1;32mfor\u001b[0m \u001b[0midx\u001b[0m \u001b[1;32min\u001b[0m \u001b[0mpossibly_batched_index\u001b[0m\u001b[1;33m]\u001b[0m\u001b[1;33m\u001b[0m\u001b[1;33m\u001b[0m\u001b[0m\n\u001b[0m\u001b[0;32m     45\u001b[0m         \u001b[1;32melse\u001b[0m\u001b[1;33m:\u001b[0m\u001b[1;33m\u001b[0m\u001b[1;33m\u001b[0m\u001b[0m\n\u001b[0;32m     46\u001b[0m             \u001b[0mdata\u001b[0m \u001b[1;33m=\u001b[0m \u001b[0mself\u001b[0m\u001b[1;33m.\u001b[0m\u001b[0mdataset\u001b[0m\u001b[1;33m[\u001b[0m\u001b[0mpossibly_batched_index\u001b[0m\u001b[1;33m]\u001b[0m\u001b[1;33m\u001b[0m\u001b[1;33m\u001b[0m\u001b[0m\n",
      "\u001b[1;32m~\\AppData\\Local\\Temp/ipykernel_15340/1422294881.py\u001b[0m in \u001b[0;36m__getitem__\u001b[1;34m(self, index)\u001b[0m\n\u001b[0;32m     28\u001b[0m     \u001b[1;31m# support indexing such that dataset[i] can be used to get i-th sample\u001b[0m\u001b[1;33m\u001b[0m\u001b[1;33m\u001b[0m\u001b[1;33m\u001b[0m\u001b[0m\n\u001b[0;32m     29\u001b[0m     \u001b[1;32mdef\u001b[0m \u001b[0m__getitem__\u001b[0m\u001b[1;33m(\u001b[0m\u001b[0mself\u001b[0m\u001b[1;33m,\u001b[0m \u001b[0mindex\u001b[0m\u001b[1;33m)\u001b[0m\u001b[1;33m:\u001b[0m\u001b[1;33m\u001b[0m\u001b[1;33m\u001b[0m\u001b[0m\n\u001b[1;32m---> 30\u001b[1;33m         \u001b[1;32mreturn\u001b[0m \u001b[0mself\u001b[0m\u001b[1;33m.\u001b[0m\u001b[0mx_data\u001b[0m\u001b[1;33m[\u001b[0m\u001b[0mindex\u001b[0m\u001b[1;33m]\u001b[0m\u001b[1;33m,\u001b[0m \u001b[0mself\u001b[0m\u001b[1;33m.\u001b[0m\u001b[0my_data\u001b[0m\u001b[1;33m[\u001b[0m\u001b[0mindex\u001b[0m\u001b[1;33m]\u001b[0m\u001b[1;33m\u001b[0m\u001b[1;33m\u001b[0m\u001b[0m\n\u001b[0m\u001b[0;32m     31\u001b[0m \u001b[1;33m\u001b[0m\u001b[0m\n\u001b[0;32m     32\u001b[0m     \u001b[1;31m# we can call len(dataset) to return the size\u001b[0m\u001b[1;33m\u001b[0m\u001b[1;33m\u001b[0m\u001b[1;33m\u001b[0m\u001b[0m\n",
      "\u001b[1;31mIndexError\u001b[0m: index 40170 is out of bounds for dimension 0 with size 33600"
     ]
    }
   ],
   "source": [
    "hist=fit(epochs=90,model=model,data=train_loader)"
   ]
  },
  {
   "cell_type": "code",
   "execution_count": 130,
   "id": "4e4813d7",
   "metadata": {},
   "outputs": [
    {
     "data": {
      "text/plain": [
       "<matplotlib.legend.Legend at 0x2b921c21320>"
      ]
     },
     "execution_count": 130,
     "metadata": {},
     "output_type": "execute_result"
    },
    {
     "data": {
      "image/png": "[encoded data removed]",
      "text/plain": [
       "<Figure size 432x288 with 1 Axes>"
      ]
     },
     "metadata": {
      "image/png": {
       "height": 250,
       "width": 373
      },
      "needs_background": "light"
     },
     "output_type": "display_data"
    }
   ],
   "source": [
    "%matplotlib inline\n",
    "%config InlineBackend.figure_format = 'retina'\n",
    "\n",
    "plt.plot(train_losses, label='Training loss')\n",
    "plt.plot(test_losses, label='Validation loss')\n",
    "plt.legend(frameon=False)"
   ]
  },
  {
   "cell_type": "code",
   "execution_count": 131,
   "id": "e60d12d2",
   "metadata": {},
   "outputs": [],
   "source": [
    "def view_classify(img, ps):\n",
    "    ''' Function for viewing an image and it's predicted classes.\n",
    "    '''\n",
    "    ps = ps.data.numpy().squeeze()\n",
    "\n",
    "    fig, (ax1, ax2) = plt.subplots(figsize=(6,9), ncols=2)\n",
    "    ax1.imshow(img.resize_(1, 28, 28).numpy().squeeze())\n",
    "    ax1.axis('off')\n",
    "    ax2.barh(np.arange(10), ps)\n",
    "    ax2.set_aspect(0.1)\n",
    "    ax2.set_yticks(np.arange(10))\n",
    "    ax2.set_yticklabels(np.arange(10))\n",
    "    ax2.set_title('Class Probability')\n",
    "    ax2.set_xlim(0, 1.1)\n",
    "\n",
    "    plt.tight_layout()"
   ]
  },
  {
   "cell_type": "code",
   "execution_count": 132,
   "id": "fb6efd82",
   "metadata": {},
   "outputs": [
    {
     "data": {
      "image/png": "[encoded data removed]",
      "text/plain": [
       "<Figure size 432x648 with 2 Axes>"
      ]
     },
     "metadata": {
      "image/png": {
       "height": 226,
       "width": 423
      },
      "needs_background": "light"
     },
     "output_type": "display_data"
    }
   ],
   "source": [
    "%matplotlib inline\n",
    "def make_prediction(data):\n",
    "    images, labels = next(iter(data))\n",
    "\n",
    "    img = images[42].view(1, 784)\n",
    "    # Turn off gradients to speed up this part\n",
    "    with torch.no_grad():\n",
    "        logps = model(img)\n",
    "\n",
    "    # Output of the network are log-probabilities, need to take exponential for probabilities\n",
    "    ps = torch.exp(logps)\n",
    "    view_classify(img.view(1, 28, 28), ps)\n",
    "make_prediction(test_loader)"
   ]
  },
  {
   "cell_type": "code",
   "execution_count": 136,
   "id": "80eaa91d",
   "metadata": {},
   "outputs": [
    {
     "data": {
      "image/png": "[encoded data removed]",
      "text/plain": [
       "<Figure size 432x648 with 2 Axes>"
      ]
     },
     "metadata": {
      "image/png": {
       "height": 226,
       "width": 423
      },
      "needs_background": "light"
     },
     "output_type": "display_data"
    }
   ],
   "source": [
    "final_test_np = final_test.values/255\n",
    "test_tn = torch.from_numpy(final_test_np)\n",
    "\n",
    "# Creating fake labels for convenience of passing into DataLoader\n",
    "## CAUTION: There are other ways of doing this, I just did it this way\n",
    "fake_labels = np.zeros(final_test_np.shape)\n",
    "fake_labels = torch.from_numpy(fake_labels)\n",
    "\n",
    "submission_tn_data = torch.utils.data.TensorDataset(test_tn, fake_labels)\n",
    "\n",
    "submission_loader = torch.utils.data.DataLoader(submission_tn_data, batch_size = batch_size, shuffle = False)\n",
    "\n",
    "\n",
    "# Seeing what our model does on test data\n",
    "make_prediction(submission_loader)\n",
    "\n",
    "\n"
   ]
  },
  {
   "cell_type": "code",
   "execution_count": null,
   "id": "dd2decae",
   "metadata": {
    "execution": {
     "iopub.execute_input": "2021-10-31T17:12:55.778529Z",
     "iopub.status.busy": "2021-10-31T17:12:55.777816Z",
     "iopub.status.idle": "2021-10-31T17:12:55.780475Z",
     "shell.execute_reply": "2021-10-31T17:12:55.780005Z",
     "shell.execute_reply.started": "2021-10-31T17:06:23.420460Z"
    },
    "papermill": {
     "duration": 0.04296,
     "end_time": "2021-10-31T17:12:55.780587",
     "exception": false,
     "start_time": "2021-10-31T17:12:55.737627",
     "status": "completed"
    },
    "tags": []
   },
   "outputs": [],
   "source": [
    "def acc(data):\n",
    "    accuracy=[]\n",
    "    for img , label in data:\n",
    "        out = model(img/255)\n",
    "        _,pred_index =torch.max(out,dim=1)\n",
    "        x=torch.sum(pred_index==label)\n",
    "        x=x/len(label)\n",
    "        x=x*100\n",
    "        accuracy.append(x)\n",
    "    return np.mean(accuracy)\n",
    "        \n",
    "        "
   ]
  },
  {
   "cell_type": "code",
   "execution_count": null,
   "id": "4bd43648",
   "metadata": {
    "execution": {
     "iopub.execute_input": "2021-10-31T17:12:55.858040Z",
     "iopub.status.busy": "2021-10-31T17:12:55.856298Z",
     "iopub.status.idle": "2021-10-31T17:12:56.261203Z",
     "shell.execute_reply": "2021-10-31T17:12:56.261661Z",
     "shell.execute_reply.started": "2021-10-31T17:06:23.429211Z"
    },
    "papermill": {
     "duration": 0.444701,
     "end_time": "2021-10-31T17:12:56.261829",
     "exception": false,
     "start_time": "2021-10-31T17:12:55.817128",
     "status": "completed"
    },
    "tags": []
   },
   "outputs": [
    {
     "data": {
      "text/plain": [
       "97.96519"
      ]
     },
     "execution_count": 27,
     "metadata": {},
     "output_type": "execute_result"
    }
   ],
   "source": [
    "acc(val_loader)"
   ]
  },
  {
   "cell_type": "code",
   "execution_count": null,
   "id": "00c02429",
   "metadata": {
    "execution": {
     "iopub.execute_input": "2021-10-31T17:12:56.337863Z",
     "iopub.status.busy": "2021-10-31T17:12:56.337119Z",
     "iopub.status.idle": "2021-10-31T17:12:56.339638Z",
     "shell.execute_reply": "2021-10-31T17:12:56.339146Z",
     "shell.execute_reply.started": "2021-10-31T17:08:30.088357Z"
    },
    "papermill": {
     "duration": 0.042086,
     "end_time": "2021-10-31T17:12:56.339764",
     "exception": false,
     "start_time": "2021-10-31T17:12:56.297678",
     "status": "completed"
    },
    "tags": []
   },
   "outputs": [],
   "source": [
    "# plt.plot(hist, range(32100))"
   ]
  },
  {
   "cell_type": "code",
   "execution_count": null,
   "id": "14fc0be1",
   "metadata": {
    "execution": {
     "iopub.execute_input": "2021-10-31T17:12:56.416180Z",
     "iopub.status.busy": "2021-10-31T17:12:56.415685Z",
     "iopub.status.idle": "2021-10-31T17:12:56.440856Z",
     "shell.execute_reply": "2021-10-31T17:12:56.441247Z",
     "shell.execute_reply.started": "2021-10-31T17:06:51.141920Z"
    },
    "papermill": {
     "duration": 0.06493,
     "end_time": "2021-10-31T17:12:56.441406",
     "exception": false,
     "start_time": "2021-10-31T17:12:56.376476",
     "status": "completed"
    },
    "tags": []
   },
   "outputs": [
    {
     "data": {
      "text/html": [
       "<div>\n",
       "<style scoped>\n",
       "    .dataframe tbody tr th:only-of-type {\n",
       "        vertical-align: middle;\n",
       "    }\n",
       "\n",
       "    .dataframe tbody tr th {\n",
       "        vertical-align: top;\n",
       "    }\n",
       "\n",
       "    .dataframe thead th {\n",
       "        text-align: right;\n",
       "    }\n",
       "</style>\n",
       "<table border=\"1\" class=\"dataframe\">\n",
       "  <thead>\n",
       "    <tr style=\"text-align: right;\">\n",
       "      <th></th>\n",
       "      <th>ImageId</th>\n",
       "      <th>Label</th>\n",
       "    </tr>\n",
       "  </thead>\n",
       "  <tbody>\n",
       "    <tr>\n",
       "      <th>0</th>\n",
       "      <td>1</td>\n",
       "      <td>0</td>\n",
       "    </tr>\n",
       "    <tr>\n",
       "      <th>1</th>\n",
       "      <td>2</td>\n",
       "      <td>0</td>\n",
       "    </tr>\n",
       "    <tr>\n",
       "      <th>2</th>\n",
       "      <td>3</td>\n",
       "      <td>0</td>\n",
       "    </tr>\n",
       "    <tr>\n",
       "      <th>3</th>\n",
       "      <td>4</td>\n",
       "      <td>0</td>\n",
       "    </tr>\n",
       "    <tr>\n",
       "      <th>4</th>\n",
       "      <td>5</td>\n",
       "      <td>0</td>\n",
       "    </tr>\n",
       "  </tbody>\n",
       "</table>\n",
       "</div>"
      ],
      "text/plain": [
       "   ImageId  Label\n",
       "0        1      0\n",
       "1        2      0\n",
       "2        3      0\n",
       "3        4      0\n",
       "4        5      0"
      ]
     },
     "execution_count": 29,
     "metadata": {},
     "output_type": "execute_result"
    }
   ],
   "source": [
    "submission= pd.read_csv(\"../input/digit-recognizer/sample_submission.csv\")\n",
    "submission.head()"
   ]
  },
  {
   "cell_type": "code",
   "execution_count": null,
   "id": "96775e38",
   "metadata": {
    "execution": {
     "iopub.execute_input": "2021-10-31T17:12:56.518166Z",
     "iopub.status.busy": "2021-10-31T17:12:56.517413Z",
     "iopub.status.idle": "2021-10-31T17:12:56.520092Z",
     "shell.execute_reply": "2021-10-31T17:12:56.520560Z",
     "shell.execute_reply.started": "2021-10-31T17:06:56.626746Z"
    },
    "papermill": {
     "duration": 0.042784,
     "end_time": "2021-10-31T17:12:56.520691",
     "exception": false,
     "start_time": "2021-10-31T17:12:56.477907",
     "status": "completed"
    },
    "tags": []
   },
   "outputs": [
    {
     "data": {
      "text/plain": [
       "28000"
      ]
     },
     "execution_count": 30,
     "metadata": {},
     "output_type": "execute_result"
    }
   ],
   "source": [
    "len(submission)\n"
   ]
  },
  {
   "cell_type": "code",
   "execution_count": null,
   "id": "0f67737c",
   "metadata": {
    "execution": {
     "iopub.execute_input": "2021-10-31T17:12:56.600564Z",
     "iopub.status.busy": "2021-10-31T17:12:56.599665Z",
     "iopub.status.idle": "2021-10-31T17:12:56.601399Z",
     "shell.execute_reply": "2021-10-31T17:12:56.601885Z",
     "shell.execute_reply.started": "2021-10-31T17:06:59.137347Z"
    },
    "papermill": {
     "duration": 0.044796,
     "end_time": "2021-10-31T17:12:56.602008",
     "exception": false,
     "start_time": "2021-10-31T17:12:56.557212",
     "status": "completed"
    },
    "tags": []
   },
   "outputs": [],
   "source": [
    "def prediction(data):\n",
    "    LABEL=[]\n",
    "    \n",
    "    out = model(data/255)\n",
    "    out = F.softmax(out)     \n",
    "    _,pred_index =torch.max(out,dim=1)\n",
    "    LABEL.append(pred_index)   \n",
    "    return LABEL"
   ]
  },
  {
   "cell_type": "code",
   "execution_count": null,
   "id": "697f0579",
   "metadata": {
    "execution": {
     "iopub.execute_input": "2021-10-31T17:12:56.682644Z",
     "iopub.status.busy": "2021-10-31T17:12:56.681803Z",
     "iopub.status.idle": "2021-10-31T17:12:57.113571Z",
     "shell.execute_reply": "2021-10-31T17:12:57.112914Z",
     "shell.execute_reply.started": "2021-10-31T17:07:01.481063Z"
    },
    "papermill": {
     "duration": 0.47458,
     "end_time": "2021-10-31T17:12:57.113736",
     "exception": false,
     "start_time": "2021-10-31T17:12:56.639156",
     "status": "completed"
    },
    "tags": []
   },
   "outputs": [
    {
     "name": "stderr",
     "output_type": "stream",
     "text": [
      "/opt/conda/lib/python3.7/site-packages/ipykernel_launcher.py:5: UserWarning: Implicit dimension choice for softmax has been deprecated. Change the call to include dim=X as an argument.\n",
      "  \"\"\"\n"
     ]
    },
    {
     "data": {
      "text/plain": [
       "28000"
      ]
     },
     "execution_count": 32,
     "metadata": {},
     "output_type": "execute_result"
    }
   ],
   "source": [
    "x=prediction(test_ds)\n",
    "len(x[0])"
   ]
  },
  {
   "cell_type": "code",
   "execution_count": null,
   "id": "6f7fbbb3",
   "metadata": {
    "execution": {
     "iopub.execute_input": "2021-10-31T17:12:57.195968Z",
     "iopub.status.busy": "2021-10-31T17:12:57.194359Z",
     "iopub.status.idle": "2021-10-31T17:12:57.196642Z",
     "shell.execute_reply": "2021-10-31T17:12:57.197071Z",
     "shell.execute_reply.started": "2021-10-31T17:07:10.978608Z"
    },
    "papermill": {
     "duration": 0.043836,
     "end_time": "2021-10-31T17:12:57.197196",
     "exception": false,
     "start_time": "2021-10-31T17:12:57.153360",
     "status": "completed"
    },
    "tags": []
   },
   "outputs": [],
   "source": [
    "x=x[0].numpy()"
   ]
  },
  {
   "cell_type": "code",
   "execution_count": null,
   "id": "b4ba0422",
   "metadata": {
    "execution": {
     "iopub.execute_input": "2021-10-31T17:12:57.276111Z",
     "iopub.status.busy": "2021-10-31T17:12:57.275441Z",
     "iopub.status.idle": "2021-10-31T17:12:57.278234Z",
     "shell.execute_reply": "2021-10-31T17:12:57.277703Z",
     "shell.execute_reply.started": "2021-10-31T17:07:11.722962Z"
    },
    "papermill": {
     "duration": 0.043847,
     "end_time": "2021-10-31T17:12:57.278351",
     "exception": false,
     "start_time": "2021-10-31T17:12:57.234504",
     "status": "completed"
    },
    "tags": []
   },
   "outputs": [],
   "source": [
    "submission[\"Label\"]=x"
   ]
  },
  {
   "cell_type": "code",
   "execution_count": null,
   "id": "4ee20fb0",
   "metadata": {
    "execution": {
     "iopub.execute_input": "2021-10-31T17:12:57.355575Z",
     "iopub.status.busy": "2021-10-31T17:12:57.354998Z",
     "iopub.status.idle": "2021-10-31T17:12:57.401618Z",
     "shell.execute_reply": "2021-10-31T17:12:57.401139Z",
     "shell.execute_reply.started": "2021-10-31T17:07:23.318051Z"
    },
    "papermill": {
     "duration": 0.086842,
     "end_time": "2021-10-31T17:12:57.401727",
     "exception": false,
     "start_time": "2021-10-31T17:12:57.314885",
     "status": "completed"
    },
    "tags": []
   },
   "outputs": [],
   "source": [
    "submission.to_csv(\"submission.csv\",index=False)"
   ]
  },
  {
   "cell_type": "markdown",
   "id": "574895e5",
   "metadata": {
    "papermill": {
     "duration": 0.036597,
     "end_time": "2021-10-31T17:12:57.475846",
     "exception": false,
     "start_time": "2021-10-31T17:12:57.439249",
     "status": "completed"
    },
    "tags": []
   },
   "source": [
    "## DO UPVOTE !!"
   ]
  }
 ],
 "metadata": {
  "kernelspec": {
   "display_name": "Python 3 (ipykernel)",
   "language": "python",
   "name": "python3"
  },
  "language_info": {
   "codemirror_mode": {
    "name": "ipython",
    "version": 3
   },
   "file_extension": ".py",
   "mimetype": "text/x-python",
   "name": "python",
   "nbconvert_exporter": "python",
   "pygments_lexer": "ipython3",
   "version": "3.7.3"
  },
  "papermill": {
   "default_parameters": {},
   "duration": 237.42862,
   "end_time": "2021-10-31T17:12:59.127496",
   "environment_variables": {},
   "exception": null,
   "input_path": "__notebook__.ipynb",
   "output_path": "__notebook__.ipynb",
   "parameters": {},
   "start_time": "2021-10-31T17:09:01.698876",
   "version": "2.3.3"
  }
 },
 "nbformat": 4,
 "nbformat_minor": 5
}
